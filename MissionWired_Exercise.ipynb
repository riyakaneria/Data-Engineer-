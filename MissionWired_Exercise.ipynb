{
  "nbformat": 4,
  "nbformat_minor": 0,
  "metadata": {
    "colab": {
      "provenance": [],
      "collapsed_sections": []
    },
    "kernelspec": {
      "name": "python3",
      "display_name": "Python 3"
    },
    "language_info": {
      "name": "python"
    }
  },
  "cells": [
    {
      "cell_type": "code",
      "execution_count": 3,
      "metadata": {
        "id": "f-ufsFUL7_4R"
      },
      "outputs": [],
      "source": [
        "import pandas as pd\n",
        "import numpy as np\n",
        "import seaborn as sns\n",
        "import matplotlib.pyplot as plt\n",
        "import datetime"
      ]
    },
    {
      "cell_type": "markdown",
      "source": [
        "**Reading the CSV files**"
      ],
      "metadata": {
        "id": "WQVX5A5m8cL2"
      }
    },
    {
      "cell_type": "code",
      "source": [
        "cons_email_address = pd.read_csv('/content/drive/MyDrive/MissionWired/cons_email.csv')"
      ],
      "metadata": {
        "id": "ioNN_GPu8imf"
      },
      "execution_count": 4,
      "outputs": []
    },
    {
      "cell_type": "code",
      "source": [
        "cons_information = pd.read_csv('/content/drive/MyDrive/MissionWired/cons.csv')"
      ],
      "metadata": {
        "id": "9XLYQmhO8v70"
      },
      "execution_count": 5,
      "outputs": []
    },
    {
      "cell_type": "code",
      "source": [
        "cons_subs_status = pd.read_csv('/content/drive/MyDrive/MissionWired/cons_email_chapter_subscription.csv')"
      ],
      "metadata": {
        "id": "y0zmF2Kx9VrI"
      },
      "execution_count": 6,
      "outputs": []
    },
    {
      "cell_type": "markdown",
      "source": [
        "**Looking at the data specifications**"
      ],
      "metadata": {
        "id": "6bd9u6uZB1f4"
      }
    },
    {
      "cell_type": "code",
      "source": [
        "cons_information.shape, cons_information.columns"
      ],
      "metadata": {
        "colab": {
          "base_uri": "https://localhost:8080/"
        },
        "id": "q3wV8Imv9kXP",
        "outputId": "5c563b34-cddf-4e13-913a-8812b55447b3"
      },
      "execution_count": 7,
      "outputs": [
        {
          "output_type": "execute_result",
          "data": {
            "text/plain": [
              "((700000, 29),\n",
              " Index(['cons_id', 'prefix', 'firstname', 'middlename', 'lastname', 'suffix',\n",
              "        'salutation', 'gender', 'birth_dt', 'title', 'employer', 'occupation',\n",
              "        'income', 'source', 'subsource', 'userid', 'password', 'is_validated',\n",
              "        'is_banned', 'change_password_next_login', 'consent_type_id',\n",
              "        'create_dt', 'create_app', 'create_user', 'modified_dt', 'modified_app',\n",
              "        'modified_user', 'status', 'note'],\n",
              "       dtype='object'))"
            ]
          },
          "metadata": {},
          "execution_count": 7
        }
      ]
    },
    {
      "cell_type": "code",
      "source": [
        "cons_email_address.shape, cons_email_address.columns"
      ],
      "metadata": {
        "colab": {
          "base_uri": "https://localhost:8080/"
        },
        "id": "yCWXgjZo984s",
        "outputId": "8f641ea9-b511-46d5-d15c-fba7e2ef3dff"
      },
      "execution_count": 8,
      "outputs": [
        {
          "output_type": "execute_result",
          "data": {
            "text/plain": [
              "((1400000, 16),\n",
              " Index(['cons_email_id', 'cons_id', 'cons_email_type_id', 'is_primary', 'email',\n",
              "        'canonical_local_part', 'domain', 'double_validation', 'create_dt',\n",
              "        'create_app', 'create_user', 'modified_dt', 'modified_app',\n",
              "        'modified_user', 'status', 'note'],\n",
              "       dtype='object'))"
            ]
          },
          "metadata": {},
          "execution_count": 8
        }
      ]
    },
    {
      "cell_type": "code",
      "source": [
        "cons_subs_status.shape, cons_subs_status.columns"
      ],
      "metadata": {
        "colab": {
          "base_uri": "https://localhost:8080/"
        },
        "id": "stuzxJ6s-Nhq",
        "outputId": "6b95320f-6b24-4ef1-ead6-c6bc1504590d"
      },
      "execution_count": 9,
      "outputs": [
        {
          "output_type": "execute_result",
          "data": {
            "text/plain": [
              "((350000, 6),\n",
              " Index(['cons_email_chapter_subscription_id', 'cons_email_id', 'chapter_id',\n",
              "        'isunsub', 'unsub_dt', 'modified_dt'],\n",
              "       dtype='object'))"
            ]
          },
          "metadata": {},
          "execution_count": 9
        }
      ]
    },
    {
      "cell_type": "markdown",
      "source": [
        "**Considering that one person can have many emails so there is not an email address for every constituent** "
      ],
      "metadata": {
        "id": "BSltYLodx2D8"
      }
    },
    {
      "cell_type": "code",
      "source": [
        "cons_email_address.groupby('cons_id').size().sort_values(ascending=False)"
      ],
      "metadata": {
        "colab": {
          "base_uri": "https://localhost:8080/"
        },
        "id": "pmJpPhe8-Z6e",
        "outputId": "0cedd6a3-7dc3-4a0a-9824-ae93d7645659"
      },
      "execution_count": 10,
      "outputs": [
        {
          "output_type": "execute_result",
          "data": {
            "text/plain": [
              "cons_id\n",
              "63766     12\n",
              "255248    11\n",
              "606469    11\n",
              "187186    11\n",
              "497278    10\n",
              "          ..\n",
              "506674     1\n",
              "271261     1\n",
              "271258     1\n",
              "506679     1\n",
              "242530     1\n",
              "Length: 605639, dtype: int64"
            ]
          },
          "metadata": {},
          "execution_count": 10
        }
      ]
    },
    {
      "cell_type": "markdown",
      "source": [
        "**Similarly, cons_subs_status also have multiple rows per person** "
      ],
      "metadata": {
        "id": "Yqd3m3QgykFy"
      }
    },
    {
      "cell_type": "code",
      "source": [
        "cons_subs_status.groupby('cons_email_id').size().sort_values(ascending=False)"
      ],
      "metadata": {
        "colab": {
          "base_uri": "https://localhost:8080/"
        },
        "id": "RkpYG-ImAvAT",
        "outputId": "300f2bba-7ed1-469b-ef44-e39429cdba7d"
      },
      "execution_count": 11,
      "outputs": [
        {
          "output_type": "execute_result",
          "data": {
            "text/plain": [
              "cons_email_id\n",
              "135368    6\n",
              "453930    6\n",
              "159290    6\n",
              "272480    6\n",
              "247486    6\n",
              "         ..\n",
              "263976    1\n",
              "263977    1\n",
              "263982    1\n",
              "263989    1\n",
              "351260    1\n",
              "Length: 275484, dtype: int64"
            ]
          },
          "metadata": {},
          "execution_count": 11
        }
      ]
    },
    {
      "cell_type": "markdown",
      "source": [
        "**Now looking at the subscription statuses where chapter_id = 1, all value counts are 1 and no repeats. Therefore each row represents only one instance of a person.**"
      ],
      "metadata": {
        "id": "tEl5-lcZy9BR"
      }
    },
    {
      "cell_type": "code",
      "source": [
        "cons_subs_status[cons_subs_status.chapter_id == 1].cons_email_id.value_counts(ascending=True)"
      ],
      "metadata": {
        "colab": {
          "base_uri": "https://localhost:8080/"
        },
        "id": "DiA2fwEeCWaj",
        "outputId": "1ffb0949-58eb-488f-9cf7-a92058984015"
      },
      "execution_count": 12,
      "outputs": [
        {
          "output_type": "execute_result",
          "data": {
            "text/plain": [
              "332188    1\n",
              "278185    1\n",
              "514925    1\n",
              "508315    1\n",
              "527348    1\n",
              "         ..\n",
              "359698    1\n",
              "373076    1\n",
              "642506    1\n",
              "198071    1\n",
              "570       1\n",
              "Name: cons_email_id, Length: 275484, dtype: int64"
            ]
          },
          "metadata": {},
          "execution_count": 12
        }
      ]
    },
    {
      "cell_type": "markdown",
      "source": [
        "**Steps for merging these three files: Merge test is a trail for initial merge between cons_information and cons_email_address and filtering the entities that are required.**"
      ],
      "metadata": {
        "id": "8hDmlELtzvAZ"
      }
    },
    {
      "cell_type": "code",
      "source": [
        "merge_test =cons_information[['cons_id', 'create_dt', 'modified_dt']] .merge(\n",
        "    cons_email_address[cons_email_address.is_primary == 1][['cons_id', 'cons_email_id', 'email', 'modified_dt']],\n",
        "    on = 'cons_id',\n",
        "    how = 'left'\n",
        ")\n"
      ],
      "metadata": {
        "id": "TAuYQ2i_DIC2"
      },
      "execution_count": 33,
      "outputs": []
    },
    {
      "cell_type": "markdown",
      "source": [
        "**Modified_dt is a required entity. I think the modified_dt for these two files do not match. Therefore I kept the one from cons_information as required.**"
      ],
      "metadata": {
        "id": "S2tiUfcg1V0p"
      }
    },
    {
      "cell_type": "code",
      "source": [
        "merge_test[merge_test.modified_dt_x != merge_test.modified_dt_y]"
      ],
      "metadata": {
        "colab": {
          "base_uri": "https://localhost:8080/",
          "height": 424
        },
        "id": "4Fo9zBLcDeF-",
        "outputId": "9c0b4d6e-4681-4215-8a93-5bb9c6059bae"
      },
      "execution_count": 37,
      "outputs": [
        {
          "output_type": "execute_result",
          "data": {
            "text/plain": [
              "        cons_id                 create_dt             modified_dt_x  \\\n",
              "0             1  Fri, 1983-08-26 06:02:03  Sun, 2015-12-27 09:28:02   \n",
              "1             2  Mon, 1979-03-05 21:08:54  Tue, 1989-06-20 13:28:57   \n",
              "2             3  Fri, 2008-08-22 19:20:28  Fri, 2020-06-05 18:13:57   \n",
              "3             4  Sun, 1984-04-29 11:18:18  Tue, 2012-01-31 07:26:35   \n",
              "4             5  Thu, 2007-07-19 18:28:09  Tue, 1971-04-27 06:53:53   \n",
              "...         ...                       ...                       ...   \n",
              "699995   699996  Mon, 2008-06-16 18:49:16  Sat, 1999-10-23 22:19:10   \n",
              "699996   699997  Thu, 2001-11-15 08:04:01  Tue, 2010-08-24 07:06:01   \n",
              "699997   699998  Thu, 1973-06-14 08:14:54  Fri, 1995-09-29 17:28:40   \n",
              "699998   699999  Tue, 1998-06-02 01:24:00  Sun, 2014-06-01 11:16:45   \n",
              "699999   700000  Wed, 1989-02-15 17:34:48  Thu, 2020-04-30 19:39:18   \n",
              "\n",
              "        cons_email_id                      email             modified_dt_y  \n",
              "0            546912.0        daniel72@hudson.com  Sat, 2008-05-31 02:30:35  \n",
              "1            415587.0  caustin@spears-carson.com  Fri, 1982-12-17 18:55:42  \n",
              "2             81594.0            klewis@ford.biz  Tue, 1992-03-24 07:15:14  \n",
              "3                 NaN                        NaN                       NaN  \n",
              "4            182741.0  stephenhamilton@gmail.com  Sun, 1990-04-01 16:41:29  \n",
              "...               ...                        ...                       ...  \n",
              "699995       475997.0  cobbpatricia@anderson.biz  Sat, 1995-04-29 23:41:43  \n",
              "699996       640359.0  hjones@raymond-adkins.com  Fri, 2009-05-01 07:31:20  \n",
              "699997       434896.0       jennifer82@oneal.com  Thu, 1984-11-15 07:53:42  \n",
              "699998       786344.0    robertodixon@wilson.net  Thu, 1974-10-24 00:31:44  \n",
              "699999        92309.0       christie54@gmail.com  Sun, 1971-12-19 21:11:07  \n",
              "\n",
              "[700000 rows x 6 columns]"
            ],
            "text/html": [
              "\n",
              "  <div id=\"df-26e4ebfd-c581-4227-a4c7-365eb475b2de\">\n",
              "    <div class=\"colab-df-container\">\n",
              "      <div>\n",
              "<style scoped>\n",
              "    .dataframe tbody tr th:only-of-type {\n",
              "        vertical-align: middle;\n",
              "    }\n",
              "\n",
              "    .dataframe tbody tr th {\n",
              "        vertical-align: top;\n",
              "    }\n",
              "\n",
              "    .dataframe thead th {\n",
              "        text-align: right;\n",
              "    }\n",
              "</style>\n",
              "<table border=\"1\" class=\"dataframe\">\n",
              "  <thead>\n",
              "    <tr style=\"text-align: right;\">\n",
              "      <th></th>\n",
              "      <th>cons_id</th>\n",
              "      <th>create_dt</th>\n",
              "      <th>modified_dt_x</th>\n",
              "      <th>cons_email_id</th>\n",
              "      <th>email</th>\n",
              "      <th>modified_dt_y</th>\n",
              "    </tr>\n",
              "  </thead>\n",
              "  <tbody>\n",
              "    <tr>\n",
              "      <th>0</th>\n",
              "      <td>1</td>\n",
              "      <td>Fri, 1983-08-26 06:02:03</td>\n",
              "      <td>Sun, 2015-12-27 09:28:02</td>\n",
              "      <td>546912.0</td>\n",
              "      <td>daniel72@hudson.com</td>\n",
              "      <td>Sat, 2008-05-31 02:30:35</td>\n",
              "    </tr>\n",
              "    <tr>\n",
              "      <th>1</th>\n",
              "      <td>2</td>\n",
              "      <td>Mon, 1979-03-05 21:08:54</td>\n",
              "      <td>Tue, 1989-06-20 13:28:57</td>\n",
              "      <td>415587.0</td>\n",
              "      <td>caustin@spears-carson.com</td>\n",
              "      <td>Fri, 1982-12-17 18:55:42</td>\n",
              "    </tr>\n",
              "    <tr>\n",
              "      <th>2</th>\n",
              "      <td>3</td>\n",
              "      <td>Fri, 2008-08-22 19:20:28</td>\n",
              "      <td>Fri, 2020-06-05 18:13:57</td>\n",
              "      <td>81594.0</td>\n",
              "      <td>klewis@ford.biz</td>\n",
              "      <td>Tue, 1992-03-24 07:15:14</td>\n",
              "    </tr>\n",
              "    <tr>\n",
              "      <th>3</th>\n",
              "      <td>4</td>\n",
              "      <td>Sun, 1984-04-29 11:18:18</td>\n",
              "      <td>Tue, 2012-01-31 07:26:35</td>\n",
              "      <td>NaN</td>\n",
              "      <td>NaN</td>\n",
              "      <td>NaN</td>\n",
              "    </tr>\n",
              "    <tr>\n",
              "      <th>4</th>\n",
              "      <td>5</td>\n",
              "      <td>Thu, 2007-07-19 18:28:09</td>\n",
              "      <td>Tue, 1971-04-27 06:53:53</td>\n",
              "      <td>182741.0</td>\n",
              "      <td>stephenhamilton@gmail.com</td>\n",
              "      <td>Sun, 1990-04-01 16:41:29</td>\n",
              "    </tr>\n",
              "    <tr>\n",
              "      <th>...</th>\n",
              "      <td>...</td>\n",
              "      <td>...</td>\n",
              "      <td>...</td>\n",
              "      <td>...</td>\n",
              "      <td>...</td>\n",
              "      <td>...</td>\n",
              "    </tr>\n",
              "    <tr>\n",
              "      <th>699995</th>\n",
              "      <td>699996</td>\n",
              "      <td>Mon, 2008-06-16 18:49:16</td>\n",
              "      <td>Sat, 1999-10-23 22:19:10</td>\n",
              "      <td>475997.0</td>\n",
              "      <td>cobbpatricia@anderson.biz</td>\n",
              "      <td>Sat, 1995-04-29 23:41:43</td>\n",
              "    </tr>\n",
              "    <tr>\n",
              "      <th>699996</th>\n",
              "      <td>699997</td>\n",
              "      <td>Thu, 2001-11-15 08:04:01</td>\n",
              "      <td>Tue, 2010-08-24 07:06:01</td>\n",
              "      <td>640359.0</td>\n",
              "      <td>hjones@raymond-adkins.com</td>\n",
              "      <td>Fri, 2009-05-01 07:31:20</td>\n",
              "    </tr>\n",
              "    <tr>\n",
              "      <th>699997</th>\n",
              "      <td>699998</td>\n",
              "      <td>Thu, 1973-06-14 08:14:54</td>\n",
              "      <td>Fri, 1995-09-29 17:28:40</td>\n",
              "      <td>434896.0</td>\n",
              "      <td>jennifer82@oneal.com</td>\n",
              "      <td>Thu, 1984-11-15 07:53:42</td>\n",
              "    </tr>\n",
              "    <tr>\n",
              "      <th>699998</th>\n",
              "      <td>699999</td>\n",
              "      <td>Tue, 1998-06-02 01:24:00</td>\n",
              "      <td>Sun, 2014-06-01 11:16:45</td>\n",
              "      <td>786344.0</td>\n",
              "      <td>robertodixon@wilson.net</td>\n",
              "      <td>Thu, 1974-10-24 00:31:44</td>\n",
              "    </tr>\n",
              "    <tr>\n",
              "      <th>699999</th>\n",
              "      <td>700000</td>\n",
              "      <td>Wed, 1989-02-15 17:34:48</td>\n",
              "      <td>Thu, 2020-04-30 19:39:18</td>\n",
              "      <td>92309.0</td>\n",
              "      <td>christie54@gmail.com</td>\n",
              "      <td>Sun, 1971-12-19 21:11:07</td>\n",
              "    </tr>\n",
              "  </tbody>\n",
              "</table>\n",
              "<p>700000 rows × 6 columns</p>\n",
              "</div>\n",
              "      <button class=\"colab-df-convert\" onclick=\"convertToInteractive('df-26e4ebfd-c581-4227-a4c7-365eb475b2de')\"\n",
              "              title=\"Convert this dataframe to an interactive table.\"\n",
              "              style=\"display:none;\">\n",
              "        \n",
              "  <svg xmlns=\"http://www.w3.org/2000/svg\" height=\"24px\"viewBox=\"0 0 24 24\"\n",
              "       width=\"24px\">\n",
              "    <path d=\"M0 0h24v24H0V0z\" fill=\"none\"/>\n",
              "    <path d=\"M18.56 5.44l.94 2.06.94-2.06 2.06-.94-2.06-.94-.94-2.06-.94 2.06-2.06.94zm-11 1L8.5 8.5l.94-2.06 2.06-.94-2.06-.94L8.5 2.5l-.94 2.06-2.06.94zm10 10l.94 2.06.94-2.06 2.06-.94-2.06-.94-.94-2.06-.94 2.06-2.06.94z\"/><path d=\"M17.41 7.96l-1.37-1.37c-.4-.4-.92-.59-1.43-.59-.52 0-1.04.2-1.43.59L10.3 9.45l-7.72 7.72c-.78.78-.78 2.05 0 2.83L4 21.41c.39.39.9.59 1.41.59.51 0 1.02-.2 1.41-.59l7.78-7.78 2.81-2.81c.8-.78.8-2.07 0-2.86zM5.41 20L4 18.59l7.72-7.72 1.47 1.35L5.41 20z\"/>\n",
              "  </svg>\n",
              "      </button>\n",
              "      \n",
              "  <style>\n",
              "    .colab-df-container {\n",
              "      display:flex;\n",
              "      flex-wrap:wrap;\n",
              "      gap: 12px;\n",
              "    }\n",
              "\n",
              "    .colab-df-convert {\n",
              "      background-color: #E8F0FE;\n",
              "      border: none;\n",
              "      border-radius: 50%;\n",
              "      cursor: pointer;\n",
              "      display: none;\n",
              "      fill: #1967D2;\n",
              "      height: 32px;\n",
              "      padding: 0 0 0 0;\n",
              "      width: 32px;\n",
              "    }\n",
              "\n",
              "    .colab-df-convert:hover {\n",
              "      background-color: #E2EBFA;\n",
              "      box-shadow: 0px 1px 2px rgba(60, 64, 67, 0.3), 0px 1px 3px 1px rgba(60, 64, 67, 0.15);\n",
              "      fill: #174EA6;\n",
              "    }\n",
              "\n",
              "    [theme=dark] .colab-df-convert {\n",
              "      background-color: #3B4455;\n",
              "      fill: #D2E3FC;\n",
              "    }\n",
              "\n",
              "    [theme=dark] .colab-df-convert:hover {\n",
              "      background-color: #434B5C;\n",
              "      box-shadow: 0px 1px 3px 1px rgba(0, 0, 0, 0.15);\n",
              "      filter: drop-shadow(0px 1px 2px rgba(0, 0, 0, 0.3));\n",
              "      fill: #FFFFFF;\n",
              "    }\n",
              "  </style>\n",
              "\n",
              "      <script>\n",
              "        const buttonEl =\n",
              "          document.querySelector('#df-26e4ebfd-c581-4227-a4c7-365eb475b2de button.colab-df-convert');\n",
              "        buttonEl.style.display =\n",
              "          google.colab.kernel.accessAllowed ? 'block' : 'none';\n",
              "\n",
              "        async function convertToInteractive(key) {\n",
              "          const element = document.querySelector('#df-26e4ebfd-c581-4227-a4c7-365eb475b2de');\n",
              "          const dataTable =\n",
              "            await google.colab.kernel.invokeFunction('convertToInteractive',\n",
              "                                                     [key], {});\n",
              "          if (!dataTable) return;\n",
              "\n",
              "          const docLinkHtml = 'Like what you see? Visit the ' +\n",
              "            '<a target=\"_blank\" href=https://colab.research.google.com/notebooks/data_table.ipynb>data table notebook</a>'\n",
              "            + ' to learn more about interactive tables.';\n",
              "          element.innerHTML = '';\n",
              "          dataTable['output_type'] = 'display_data';\n",
              "          await google.colab.output.renderOutput(dataTable, element);\n",
              "          const docLink = document.createElement('div');\n",
              "          docLink.innerHTML = docLinkHtml;\n",
              "          element.appendChild(docLink);\n",
              "        }\n",
              "      </script>\n",
              "    </div>\n",
              "  </div>\n",
              "  "
            ]
          },
          "metadata": {},
          "execution_count": 37
        }
      ]
    },
    {
      "cell_type": "markdown",
      "source": [
        "Based on the above observations: \n",
        "\n",
        "1.   cons_information can be joined by cons_email_address by cons_id\n",
        "2.   cons_subs_status can be joined by other two using cons_email_id\n",
        "3.   A given constituent can have one primary emails and many emails on file.\n",
        "4.   Every row in cons_subs_status[cons_subs_status.chapter_id==1] represents one instance of one constituent. \n",
        "5.  Not all of the constituents in cons_information has corresponding email address in cons_email_address. ( that explains the NaN values). \n",
        "\n"
      ],
      "metadata": {
        "id": "OwkTSPEw2ckr"
      }
    },
    {
      "cell_type": "markdown",
      "source": [
        "**Questions 1 Produce a “people” file with the following schema. Save it as a CSV with a header line to the working directory.**\n",
        "\n"
      ],
      "metadata": {
        "id": "DXWQ843EEY2C"
      }
    },
    {
      "cell_type": "markdown",
      "source": [
        "**Merging the data ---- Step 1**"
      ],
      "metadata": {
        "id": "x5jZtYmB4k5b"
      }
    },
    {
      "cell_type": "markdown",
      "source": [
        "**Merge 1 : joining primary emails of cons_information and cons_email_address using left join as it preserves all relevant constituent level data available, also leaving missing information as NaN.**\n",
        "\n"
      ],
      "metadata": {
        "id": "bdjYyMgA4x7D"
      }
    },
    {
      "cell_type": "code",
      "source": [
        "merge_1 = cons_information[['cons_id', 'create_dt', 'modified_dt', 'source']].merge(\n",
        "    cons_email_address[cons_email_address.is_primary == 1][['cons_id', 'email', 'cons_email_id']], on = 'cons_id', how = 'left'\n",
        ")"
      ],
      "metadata": {
        "id": "LEhgM2vPPRuP"
      },
      "execution_count": 38,
      "outputs": []
    },
    {
      "cell_type": "code",
      "source": [
        "merge_1.head(10)"
      ],
      "metadata": {
        "colab": {
          "base_uri": "https://localhost:8080/",
          "height": 363
        },
        "id": "CAQEZ6esPpjv",
        "outputId": "958e1743-b93f-4aff-dffa-8afa6346cdf8"
      },
      "execution_count": 39,
      "outputs": [
        {
          "output_type": "execute_result",
          "data": {
            "text/plain": [
              "   cons_id                 create_dt               modified_dt    source  \\\n",
              "0        1  Fri, 1983-08-26 06:02:03  Sun, 2015-12-27 09:28:02    google   \n",
              "1        2  Mon, 1979-03-05 21:08:54  Tue, 1989-06-20 13:28:57  facebook   \n",
              "2        3  Fri, 2008-08-22 19:20:28  Fri, 2020-06-05 18:13:57       NaN   \n",
              "3        4  Sun, 1984-04-29 11:18:18  Tue, 2012-01-31 07:26:35    google   \n",
              "4        5  Thu, 2007-07-19 18:28:09  Tue, 1971-04-27 06:53:53       NaN   \n",
              "5        6  Sat, 2014-02-15 22:54:27  Fri, 1999-11-12 06:09:25    google   \n",
              "6        7  Thu, 1979-03-01 16:12:55  Wed, 2019-03-13 02:52:10       NaN   \n",
              "7        8  Tue, 2002-07-30 22:28:38  Sat, 1983-07-16 18:30:07   twitter   \n",
              "8        9  Thu, 2019-08-29 14:50:24  Sun, 2009-12-20 14:50:14   twitter   \n",
              "9       10  Tue, 1987-02-17 11:22:04  Sat, 2016-03-19 17:33:38   twitter   \n",
              "\n",
              "                       email  cons_email_id  \n",
              "0        daniel72@hudson.com       546912.0  \n",
              "1  caustin@spears-carson.com       415587.0  \n",
              "2            klewis@ford.biz        81594.0  \n",
              "3                        NaN            NaN  \n",
              "4  stephenhamilton@gmail.com       182741.0  \n",
              "5     henryherring@gmail.com       246591.0  \n",
              "6  perrymatthew@campbell.com       339289.0  \n",
              "7     tonifranklin@yahoo.com      1057700.0  \n",
              "8                        NaN            NaN  \n",
              "9     gillderrick@melton.net      1398350.0  "
            ],
            "text/html": [
              "\n",
              "  <div id=\"df-fd0170d6-8f5e-4130-8bd9-d4703bdcb1e5\">\n",
              "    <div class=\"colab-df-container\">\n",
              "      <div>\n",
              "<style scoped>\n",
              "    .dataframe tbody tr th:only-of-type {\n",
              "        vertical-align: middle;\n",
              "    }\n",
              "\n",
              "    .dataframe tbody tr th {\n",
              "        vertical-align: top;\n",
              "    }\n",
              "\n",
              "    .dataframe thead th {\n",
              "        text-align: right;\n",
              "    }\n",
              "</style>\n",
              "<table border=\"1\" class=\"dataframe\">\n",
              "  <thead>\n",
              "    <tr style=\"text-align: right;\">\n",
              "      <th></th>\n",
              "      <th>cons_id</th>\n",
              "      <th>create_dt</th>\n",
              "      <th>modified_dt</th>\n",
              "      <th>source</th>\n",
              "      <th>email</th>\n",
              "      <th>cons_email_id</th>\n",
              "    </tr>\n",
              "  </thead>\n",
              "  <tbody>\n",
              "    <tr>\n",
              "      <th>0</th>\n",
              "      <td>1</td>\n",
              "      <td>Fri, 1983-08-26 06:02:03</td>\n",
              "      <td>Sun, 2015-12-27 09:28:02</td>\n",
              "      <td>google</td>\n",
              "      <td>daniel72@hudson.com</td>\n",
              "      <td>546912.0</td>\n",
              "    </tr>\n",
              "    <tr>\n",
              "      <th>1</th>\n",
              "      <td>2</td>\n",
              "      <td>Mon, 1979-03-05 21:08:54</td>\n",
              "      <td>Tue, 1989-06-20 13:28:57</td>\n",
              "      <td>facebook</td>\n",
              "      <td>caustin@spears-carson.com</td>\n",
              "      <td>415587.0</td>\n",
              "    </tr>\n",
              "    <tr>\n",
              "      <th>2</th>\n",
              "      <td>3</td>\n",
              "      <td>Fri, 2008-08-22 19:20:28</td>\n",
              "      <td>Fri, 2020-06-05 18:13:57</td>\n",
              "      <td>NaN</td>\n",
              "      <td>klewis@ford.biz</td>\n",
              "      <td>81594.0</td>\n",
              "    </tr>\n",
              "    <tr>\n",
              "      <th>3</th>\n",
              "      <td>4</td>\n",
              "      <td>Sun, 1984-04-29 11:18:18</td>\n",
              "      <td>Tue, 2012-01-31 07:26:35</td>\n",
              "      <td>google</td>\n",
              "      <td>NaN</td>\n",
              "      <td>NaN</td>\n",
              "    </tr>\n",
              "    <tr>\n",
              "      <th>4</th>\n",
              "      <td>5</td>\n",
              "      <td>Thu, 2007-07-19 18:28:09</td>\n",
              "      <td>Tue, 1971-04-27 06:53:53</td>\n",
              "      <td>NaN</td>\n",
              "      <td>stephenhamilton@gmail.com</td>\n",
              "      <td>182741.0</td>\n",
              "    </tr>\n",
              "    <tr>\n",
              "      <th>5</th>\n",
              "      <td>6</td>\n",
              "      <td>Sat, 2014-02-15 22:54:27</td>\n",
              "      <td>Fri, 1999-11-12 06:09:25</td>\n",
              "      <td>google</td>\n",
              "      <td>henryherring@gmail.com</td>\n",
              "      <td>246591.0</td>\n",
              "    </tr>\n",
              "    <tr>\n",
              "      <th>6</th>\n",
              "      <td>7</td>\n",
              "      <td>Thu, 1979-03-01 16:12:55</td>\n",
              "      <td>Wed, 2019-03-13 02:52:10</td>\n",
              "      <td>NaN</td>\n",
              "      <td>perrymatthew@campbell.com</td>\n",
              "      <td>339289.0</td>\n",
              "    </tr>\n",
              "    <tr>\n",
              "      <th>7</th>\n",
              "      <td>8</td>\n",
              "      <td>Tue, 2002-07-30 22:28:38</td>\n",
              "      <td>Sat, 1983-07-16 18:30:07</td>\n",
              "      <td>twitter</td>\n",
              "      <td>tonifranklin@yahoo.com</td>\n",
              "      <td>1057700.0</td>\n",
              "    </tr>\n",
              "    <tr>\n",
              "      <th>8</th>\n",
              "      <td>9</td>\n",
              "      <td>Thu, 2019-08-29 14:50:24</td>\n",
              "      <td>Sun, 2009-12-20 14:50:14</td>\n",
              "      <td>twitter</td>\n",
              "      <td>NaN</td>\n",
              "      <td>NaN</td>\n",
              "    </tr>\n",
              "    <tr>\n",
              "      <th>9</th>\n",
              "      <td>10</td>\n",
              "      <td>Tue, 1987-02-17 11:22:04</td>\n",
              "      <td>Sat, 2016-03-19 17:33:38</td>\n",
              "      <td>twitter</td>\n",
              "      <td>gillderrick@melton.net</td>\n",
              "      <td>1398350.0</td>\n",
              "    </tr>\n",
              "  </tbody>\n",
              "</table>\n",
              "</div>\n",
              "      <button class=\"colab-df-convert\" onclick=\"convertToInteractive('df-fd0170d6-8f5e-4130-8bd9-d4703bdcb1e5')\"\n",
              "              title=\"Convert this dataframe to an interactive table.\"\n",
              "              style=\"display:none;\">\n",
              "        \n",
              "  <svg xmlns=\"http://www.w3.org/2000/svg\" height=\"24px\"viewBox=\"0 0 24 24\"\n",
              "       width=\"24px\">\n",
              "    <path d=\"M0 0h24v24H0V0z\" fill=\"none\"/>\n",
              "    <path d=\"M18.56 5.44l.94 2.06.94-2.06 2.06-.94-2.06-.94-.94-2.06-.94 2.06-2.06.94zm-11 1L8.5 8.5l.94-2.06 2.06-.94-2.06-.94L8.5 2.5l-.94 2.06-2.06.94zm10 10l.94 2.06.94-2.06 2.06-.94-2.06-.94-.94-2.06-.94 2.06-2.06.94z\"/><path d=\"M17.41 7.96l-1.37-1.37c-.4-.4-.92-.59-1.43-.59-.52 0-1.04.2-1.43.59L10.3 9.45l-7.72 7.72c-.78.78-.78 2.05 0 2.83L4 21.41c.39.39.9.59 1.41.59.51 0 1.02-.2 1.41-.59l7.78-7.78 2.81-2.81c.8-.78.8-2.07 0-2.86zM5.41 20L4 18.59l7.72-7.72 1.47 1.35L5.41 20z\"/>\n",
              "  </svg>\n",
              "      </button>\n",
              "      \n",
              "  <style>\n",
              "    .colab-df-container {\n",
              "      display:flex;\n",
              "      flex-wrap:wrap;\n",
              "      gap: 12px;\n",
              "    }\n",
              "\n",
              "    .colab-df-convert {\n",
              "      background-color: #E8F0FE;\n",
              "      border: none;\n",
              "      border-radius: 50%;\n",
              "      cursor: pointer;\n",
              "      display: none;\n",
              "      fill: #1967D2;\n",
              "      height: 32px;\n",
              "      padding: 0 0 0 0;\n",
              "      width: 32px;\n",
              "    }\n",
              "\n",
              "    .colab-df-convert:hover {\n",
              "      background-color: #E2EBFA;\n",
              "      box-shadow: 0px 1px 2px rgba(60, 64, 67, 0.3), 0px 1px 3px 1px rgba(60, 64, 67, 0.15);\n",
              "      fill: #174EA6;\n",
              "    }\n",
              "\n",
              "    [theme=dark] .colab-df-convert {\n",
              "      background-color: #3B4455;\n",
              "      fill: #D2E3FC;\n",
              "    }\n",
              "\n",
              "    [theme=dark] .colab-df-convert:hover {\n",
              "      background-color: #434B5C;\n",
              "      box-shadow: 0px 1px 3px 1px rgba(0, 0, 0, 0.15);\n",
              "      filter: drop-shadow(0px 1px 2px rgba(0, 0, 0, 0.3));\n",
              "      fill: #FFFFFF;\n",
              "    }\n",
              "  </style>\n",
              "\n",
              "      <script>\n",
              "        const buttonEl =\n",
              "          document.querySelector('#df-fd0170d6-8f5e-4130-8bd9-d4703bdcb1e5 button.colab-df-convert');\n",
              "        buttonEl.style.display =\n",
              "          google.colab.kernel.accessAllowed ? 'block' : 'none';\n",
              "\n",
              "        async function convertToInteractive(key) {\n",
              "          const element = document.querySelector('#df-fd0170d6-8f5e-4130-8bd9-d4703bdcb1e5');\n",
              "          const dataTable =\n",
              "            await google.colab.kernel.invokeFunction('convertToInteractive',\n",
              "                                                     [key], {});\n",
              "          if (!dataTable) return;\n",
              "\n",
              "          const docLinkHtml = 'Like what you see? Visit the ' +\n",
              "            '<a target=\"_blank\" href=https://colab.research.google.com/notebooks/data_table.ipynb>data table notebook</a>'\n",
              "            + ' to learn more about interactive tables.';\n",
              "          element.innerHTML = '';\n",
              "          dataTable['output_type'] = 'display_data';\n",
              "          await google.colab.output.renderOutput(dataTable, element);\n",
              "          const docLink = document.createElement('div');\n",
              "          docLink.innerHTML = docLinkHtml;\n",
              "          element.appendChild(docLink);\n",
              "        }\n",
              "      </script>\n",
              "    </div>\n",
              "  </div>\n",
              "  "
            ]
          },
          "metadata": {},
          "execution_count": 39
        }
      ]
    },
    {
      "cell_type": "markdown",
      "source": [
        "**Merging cons_subs_status and merge 1**"
      ],
      "metadata": {
        "id": "KEs5XlfV5kom"
      }
    },
    {
      "cell_type": "markdown",
      "source": [
        "**Merge 2 - Since we only care about subscription statuses where chapter_id =1, so I only considered that. Using right join, I merged cons_subs_status and merge 1** "
      ],
      "metadata": {
        "id": "i01RaYwb5_5i"
      }
    },
    {
      "cell_type": "code",
      "source": [
        "merge_2 = cons_subs_status[cons_subs_status.chapter_id == 1][['cons_email_id', 'isunsub']].merge(\n",
        "    merge_1, on = 'cons_email_id', how = 'right'\n",
        ")"
      ],
      "metadata": {
        "id": "u6tk54XmQFrN"
      },
      "execution_count": 40,
      "outputs": []
    },
    {
      "cell_type": "code",
      "source": [
        "merge_2.head(10)"
      ],
      "metadata": {
        "colab": {
          "base_uri": "https://localhost:8080/",
          "height": 363
        },
        "id": "R-z3h2uUQR2F",
        "outputId": "0ed52534-fbd1-4bc6-905a-ba0f5eca064b"
      },
      "execution_count": 41,
      "outputs": [
        {
          "output_type": "execute_result",
          "data": {
            "text/plain": [
              "   cons_email_id  isunsub  cons_id                 create_dt  \\\n",
              "0       546912.0      NaN        1  Fri, 1983-08-26 06:02:03   \n",
              "1       415587.0      1.0        2  Mon, 1979-03-05 21:08:54   \n",
              "2        81594.0      1.0        3  Fri, 2008-08-22 19:20:28   \n",
              "3            NaN      NaN        4  Sun, 1984-04-29 11:18:18   \n",
              "4       182741.0      1.0        5  Thu, 2007-07-19 18:28:09   \n",
              "5       246591.0      NaN        6  Sat, 2014-02-15 22:54:27   \n",
              "6       339289.0      NaN        7  Thu, 1979-03-01 16:12:55   \n",
              "7      1057700.0      NaN        8  Tue, 2002-07-30 22:28:38   \n",
              "8            NaN      NaN        9  Thu, 2019-08-29 14:50:24   \n",
              "9      1398350.0      NaN       10  Tue, 1987-02-17 11:22:04   \n",
              "\n",
              "                modified_dt    source                      email  \n",
              "0  Sun, 2015-12-27 09:28:02    google        daniel72@hudson.com  \n",
              "1  Tue, 1989-06-20 13:28:57  facebook  caustin@spears-carson.com  \n",
              "2  Fri, 2020-06-05 18:13:57       NaN            klewis@ford.biz  \n",
              "3  Tue, 2012-01-31 07:26:35    google                        NaN  \n",
              "4  Tue, 1971-04-27 06:53:53       NaN  stephenhamilton@gmail.com  \n",
              "5  Fri, 1999-11-12 06:09:25    google     henryherring@gmail.com  \n",
              "6  Wed, 2019-03-13 02:52:10       NaN  perrymatthew@campbell.com  \n",
              "7  Sat, 1983-07-16 18:30:07   twitter     tonifranklin@yahoo.com  \n",
              "8  Sun, 2009-12-20 14:50:14   twitter                        NaN  \n",
              "9  Sat, 2016-03-19 17:33:38   twitter     gillderrick@melton.net  "
            ],
            "text/html": [
              "\n",
              "  <div id=\"df-ef0c14f4-773f-4215-82ca-2a9e7b1c94e2\">\n",
              "    <div class=\"colab-df-container\">\n",
              "      <div>\n",
              "<style scoped>\n",
              "    .dataframe tbody tr th:only-of-type {\n",
              "        vertical-align: middle;\n",
              "    }\n",
              "\n",
              "    .dataframe tbody tr th {\n",
              "        vertical-align: top;\n",
              "    }\n",
              "\n",
              "    .dataframe thead th {\n",
              "        text-align: right;\n",
              "    }\n",
              "</style>\n",
              "<table border=\"1\" class=\"dataframe\">\n",
              "  <thead>\n",
              "    <tr style=\"text-align: right;\">\n",
              "      <th></th>\n",
              "      <th>cons_email_id</th>\n",
              "      <th>isunsub</th>\n",
              "      <th>cons_id</th>\n",
              "      <th>create_dt</th>\n",
              "      <th>modified_dt</th>\n",
              "      <th>source</th>\n",
              "      <th>email</th>\n",
              "    </tr>\n",
              "  </thead>\n",
              "  <tbody>\n",
              "    <tr>\n",
              "      <th>0</th>\n",
              "      <td>546912.0</td>\n",
              "      <td>NaN</td>\n",
              "      <td>1</td>\n",
              "      <td>Fri, 1983-08-26 06:02:03</td>\n",
              "      <td>Sun, 2015-12-27 09:28:02</td>\n",
              "      <td>google</td>\n",
              "      <td>daniel72@hudson.com</td>\n",
              "    </tr>\n",
              "    <tr>\n",
              "      <th>1</th>\n",
              "      <td>415587.0</td>\n",
              "      <td>1.0</td>\n",
              "      <td>2</td>\n",
              "      <td>Mon, 1979-03-05 21:08:54</td>\n",
              "      <td>Tue, 1989-06-20 13:28:57</td>\n",
              "      <td>facebook</td>\n",
              "      <td>caustin@spears-carson.com</td>\n",
              "    </tr>\n",
              "    <tr>\n",
              "      <th>2</th>\n",
              "      <td>81594.0</td>\n",
              "      <td>1.0</td>\n",
              "      <td>3</td>\n",
              "      <td>Fri, 2008-08-22 19:20:28</td>\n",
              "      <td>Fri, 2020-06-05 18:13:57</td>\n",
              "      <td>NaN</td>\n",
              "      <td>klewis@ford.biz</td>\n",
              "    </tr>\n",
              "    <tr>\n",
              "      <th>3</th>\n",
              "      <td>NaN</td>\n",
              "      <td>NaN</td>\n",
              "      <td>4</td>\n",
              "      <td>Sun, 1984-04-29 11:18:18</td>\n",
              "      <td>Tue, 2012-01-31 07:26:35</td>\n",
              "      <td>google</td>\n",
              "      <td>NaN</td>\n",
              "    </tr>\n",
              "    <tr>\n",
              "      <th>4</th>\n",
              "      <td>182741.0</td>\n",
              "      <td>1.0</td>\n",
              "      <td>5</td>\n",
              "      <td>Thu, 2007-07-19 18:28:09</td>\n",
              "      <td>Tue, 1971-04-27 06:53:53</td>\n",
              "      <td>NaN</td>\n",
              "      <td>stephenhamilton@gmail.com</td>\n",
              "    </tr>\n",
              "    <tr>\n",
              "      <th>5</th>\n",
              "      <td>246591.0</td>\n",
              "      <td>NaN</td>\n",
              "      <td>6</td>\n",
              "      <td>Sat, 2014-02-15 22:54:27</td>\n",
              "      <td>Fri, 1999-11-12 06:09:25</td>\n",
              "      <td>google</td>\n",
              "      <td>henryherring@gmail.com</td>\n",
              "    </tr>\n",
              "    <tr>\n",
              "      <th>6</th>\n",
              "      <td>339289.0</td>\n",
              "      <td>NaN</td>\n",
              "      <td>7</td>\n",
              "      <td>Thu, 1979-03-01 16:12:55</td>\n",
              "      <td>Wed, 2019-03-13 02:52:10</td>\n",
              "      <td>NaN</td>\n",
              "      <td>perrymatthew@campbell.com</td>\n",
              "    </tr>\n",
              "    <tr>\n",
              "      <th>7</th>\n",
              "      <td>1057700.0</td>\n",
              "      <td>NaN</td>\n",
              "      <td>8</td>\n",
              "      <td>Tue, 2002-07-30 22:28:38</td>\n",
              "      <td>Sat, 1983-07-16 18:30:07</td>\n",
              "      <td>twitter</td>\n",
              "      <td>tonifranklin@yahoo.com</td>\n",
              "    </tr>\n",
              "    <tr>\n",
              "      <th>8</th>\n",
              "      <td>NaN</td>\n",
              "      <td>NaN</td>\n",
              "      <td>9</td>\n",
              "      <td>Thu, 2019-08-29 14:50:24</td>\n",
              "      <td>Sun, 2009-12-20 14:50:14</td>\n",
              "      <td>twitter</td>\n",
              "      <td>NaN</td>\n",
              "    </tr>\n",
              "    <tr>\n",
              "      <th>9</th>\n",
              "      <td>1398350.0</td>\n",
              "      <td>NaN</td>\n",
              "      <td>10</td>\n",
              "      <td>Tue, 1987-02-17 11:22:04</td>\n",
              "      <td>Sat, 2016-03-19 17:33:38</td>\n",
              "      <td>twitter</td>\n",
              "      <td>gillderrick@melton.net</td>\n",
              "    </tr>\n",
              "  </tbody>\n",
              "</table>\n",
              "</div>\n",
              "      <button class=\"colab-df-convert\" onclick=\"convertToInteractive('df-ef0c14f4-773f-4215-82ca-2a9e7b1c94e2')\"\n",
              "              title=\"Convert this dataframe to an interactive table.\"\n",
              "              style=\"display:none;\">\n",
              "        \n",
              "  <svg xmlns=\"http://www.w3.org/2000/svg\" height=\"24px\"viewBox=\"0 0 24 24\"\n",
              "       width=\"24px\">\n",
              "    <path d=\"M0 0h24v24H0V0z\" fill=\"none\"/>\n",
              "    <path d=\"M18.56 5.44l.94 2.06.94-2.06 2.06-.94-2.06-.94-.94-2.06-.94 2.06-2.06.94zm-11 1L8.5 8.5l.94-2.06 2.06-.94-2.06-.94L8.5 2.5l-.94 2.06-2.06.94zm10 10l.94 2.06.94-2.06 2.06-.94-2.06-.94-.94-2.06-.94 2.06-2.06.94z\"/><path d=\"M17.41 7.96l-1.37-1.37c-.4-.4-.92-.59-1.43-.59-.52 0-1.04.2-1.43.59L10.3 9.45l-7.72 7.72c-.78.78-.78 2.05 0 2.83L4 21.41c.39.39.9.59 1.41.59.51 0 1.02-.2 1.41-.59l7.78-7.78 2.81-2.81c.8-.78.8-2.07 0-2.86zM5.41 20L4 18.59l7.72-7.72 1.47 1.35L5.41 20z\"/>\n",
              "  </svg>\n",
              "      </button>\n",
              "      \n",
              "  <style>\n",
              "    .colab-df-container {\n",
              "      display:flex;\n",
              "      flex-wrap:wrap;\n",
              "      gap: 12px;\n",
              "    }\n",
              "\n",
              "    .colab-df-convert {\n",
              "      background-color: #E8F0FE;\n",
              "      border: none;\n",
              "      border-radius: 50%;\n",
              "      cursor: pointer;\n",
              "      display: none;\n",
              "      fill: #1967D2;\n",
              "      height: 32px;\n",
              "      padding: 0 0 0 0;\n",
              "      width: 32px;\n",
              "    }\n",
              "\n",
              "    .colab-df-convert:hover {\n",
              "      background-color: #E2EBFA;\n",
              "      box-shadow: 0px 1px 2px rgba(60, 64, 67, 0.3), 0px 1px 3px 1px rgba(60, 64, 67, 0.15);\n",
              "      fill: #174EA6;\n",
              "    }\n",
              "\n",
              "    [theme=dark] .colab-df-convert {\n",
              "      background-color: #3B4455;\n",
              "      fill: #D2E3FC;\n",
              "    }\n",
              "\n",
              "    [theme=dark] .colab-df-convert:hover {\n",
              "      background-color: #434B5C;\n",
              "      box-shadow: 0px 1px 3px 1px rgba(0, 0, 0, 0.15);\n",
              "      filter: drop-shadow(0px 1px 2px rgba(0, 0, 0, 0.3));\n",
              "      fill: #FFFFFF;\n",
              "    }\n",
              "  </style>\n",
              "\n",
              "      <script>\n",
              "        const buttonEl =\n",
              "          document.querySelector('#df-ef0c14f4-773f-4215-82ca-2a9e7b1c94e2 button.colab-df-convert');\n",
              "        buttonEl.style.display =\n",
              "          google.colab.kernel.accessAllowed ? 'block' : 'none';\n",
              "\n",
              "        async function convertToInteractive(key) {\n",
              "          const element = document.querySelector('#df-ef0c14f4-773f-4215-82ca-2a9e7b1c94e2');\n",
              "          const dataTable =\n",
              "            await google.colab.kernel.invokeFunction('convertToInteractive',\n",
              "                                                     [key], {});\n",
              "          if (!dataTable) return;\n",
              "\n",
              "          const docLinkHtml = 'Like what you see? Visit the ' +\n",
              "            '<a target=\"_blank\" href=https://colab.research.google.com/notebooks/data_table.ipynb>data table notebook</a>'\n",
              "            + ' to learn more about interactive tables.';\n",
              "          element.innerHTML = '';\n",
              "          dataTable['output_type'] = 'display_data';\n",
              "          await google.colab.output.renderOutput(dataTable, element);\n",
              "          const docLink = document.createElement('div');\n",
              "          docLink.innerHTML = docLinkHtml;\n",
              "          element.appendChild(docLink);\n",
              "        }\n",
              "      </script>\n",
              "    </div>\n",
              "  </div>\n",
              "  "
            ]
          },
          "metadata": {},
          "execution_count": 41
        }
      ]
    },
    {
      "cell_type": "markdown",
      "source": [
        "**Creating a \"people\" dataframe ----Step 2**"
      ],
      "metadata": {
        "id": "lLbkbD_a8iJr"
      }
    },
    {
      "cell_type": "code",
      "source": [
        "people = merge_2.drop(columns = ['cons_email_id', 'cons_id']) \n",
        "#removing the original merge fields"
      ],
      "metadata": {
        "id": "MjjW8EZtQTj-"
      },
      "execution_count": 19,
      "outputs": []
    },
    {
      "cell_type": "markdown",
      "source": [
        "**Substituting isunsub NaN's with 1 -------Step 3**"
      ],
      "metadata": {
        "id": "EaOCCUki8x5d"
      }
    },
    {
      "cell_type": "code",
      "source": [
        "people[people['isunsub'].isna()]\n",
        "#526010 NaN's to be replaced with 1"
      ],
      "metadata": {
        "colab": {
          "base_uri": "https://localhost:8080/",
          "height": 424
        },
        "id": "mECqd0emQhOV",
        "outputId": "3ec42bfd-fe4b-40e3-a099-2acd0b492924"
      },
      "execution_count": 20,
      "outputs": [
        {
          "output_type": "execute_result",
          "data": {
            "text/plain": [
              "        isunsub                 create_dt               modified_dt    source  \\\n",
              "0           NaN  Fri, 1983-08-26 06:02:03  Sun, 2015-12-27 09:28:02    google   \n",
              "3           NaN  Sun, 1984-04-29 11:18:18  Tue, 2012-01-31 07:26:35    google   \n",
              "5           NaN  Sat, 2014-02-15 22:54:27  Fri, 1999-11-12 06:09:25    google   \n",
              "6           NaN  Thu, 1979-03-01 16:12:55  Wed, 2019-03-13 02:52:10       NaN   \n",
              "7           NaN  Tue, 2002-07-30 22:28:38  Sat, 1983-07-16 18:30:07   twitter   \n",
              "...         ...                       ...                       ...       ...   \n",
              "699994      NaN  Tue, 2003-10-21 04:59:43  Thu, 2010-11-18 23:11:46  facebook   \n",
              "699995      NaN  Mon, 2008-06-16 18:49:16  Sat, 1999-10-23 22:19:10       NaN   \n",
              "699997      NaN  Thu, 1973-06-14 08:14:54  Fri, 1995-09-29 17:28:40   twitter   \n",
              "699998      NaN  Tue, 1998-06-02 01:24:00  Sun, 2014-06-01 11:16:45    google   \n",
              "699999      NaN  Wed, 1989-02-15 17:34:48  Thu, 2020-04-30 19:39:18       NaN   \n",
              "\n",
              "                            email  \n",
              "0             daniel72@hudson.com  \n",
              "3                             NaN  \n",
              "5          henryherring@gmail.com  \n",
              "6       perrymatthew@campbell.com  \n",
              "7          tonifranklin@yahoo.com  \n",
              "...                           ...  \n",
              "699994     smithoscar@navarro.com  \n",
              "699995  cobbpatricia@anderson.biz  \n",
              "699997       jennifer82@oneal.com  \n",
              "699998    robertodixon@wilson.net  \n",
              "699999       christie54@gmail.com  \n",
              "\n",
              "[526010 rows x 5 columns]"
            ],
            "text/html": [
              "\n",
              "  <div id=\"df-2dcb209a-9329-40aa-9197-eb176f3ed6a2\">\n",
              "    <div class=\"colab-df-container\">\n",
              "      <div>\n",
              "<style scoped>\n",
              "    .dataframe tbody tr th:only-of-type {\n",
              "        vertical-align: middle;\n",
              "    }\n",
              "\n",
              "    .dataframe tbody tr th {\n",
              "        vertical-align: top;\n",
              "    }\n",
              "\n",
              "    .dataframe thead th {\n",
              "        text-align: right;\n",
              "    }\n",
              "</style>\n",
              "<table border=\"1\" class=\"dataframe\">\n",
              "  <thead>\n",
              "    <tr style=\"text-align: right;\">\n",
              "      <th></th>\n",
              "      <th>isunsub</th>\n",
              "      <th>create_dt</th>\n",
              "      <th>modified_dt</th>\n",
              "      <th>source</th>\n",
              "      <th>email</th>\n",
              "    </tr>\n",
              "  </thead>\n",
              "  <tbody>\n",
              "    <tr>\n",
              "      <th>0</th>\n",
              "      <td>NaN</td>\n",
              "      <td>Fri, 1983-08-26 06:02:03</td>\n",
              "      <td>Sun, 2015-12-27 09:28:02</td>\n",
              "      <td>google</td>\n",
              "      <td>daniel72@hudson.com</td>\n",
              "    </tr>\n",
              "    <tr>\n",
              "      <th>3</th>\n",
              "      <td>NaN</td>\n",
              "      <td>Sun, 1984-04-29 11:18:18</td>\n",
              "      <td>Tue, 2012-01-31 07:26:35</td>\n",
              "      <td>google</td>\n",
              "      <td>NaN</td>\n",
              "    </tr>\n",
              "    <tr>\n",
              "      <th>5</th>\n",
              "      <td>NaN</td>\n",
              "      <td>Sat, 2014-02-15 22:54:27</td>\n",
              "      <td>Fri, 1999-11-12 06:09:25</td>\n",
              "      <td>google</td>\n",
              "      <td>henryherring@gmail.com</td>\n",
              "    </tr>\n",
              "    <tr>\n",
              "      <th>6</th>\n",
              "      <td>NaN</td>\n",
              "      <td>Thu, 1979-03-01 16:12:55</td>\n",
              "      <td>Wed, 2019-03-13 02:52:10</td>\n",
              "      <td>NaN</td>\n",
              "      <td>perrymatthew@campbell.com</td>\n",
              "    </tr>\n",
              "    <tr>\n",
              "      <th>7</th>\n",
              "      <td>NaN</td>\n",
              "      <td>Tue, 2002-07-30 22:28:38</td>\n",
              "      <td>Sat, 1983-07-16 18:30:07</td>\n",
              "      <td>twitter</td>\n",
              "      <td>tonifranklin@yahoo.com</td>\n",
              "    </tr>\n",
              "    <tr>\n",
              "      <th>...</th>\n",
              "      <td>...</td>\n",
              "      <td>...</td>\n",
              "      <td>...</td>\n",
              "      <td>...</td>\n",
              "      <td>...</td>\n",
              "    </tr>\n",
              "    <tr>\n",
              "      <th>699994</th>\n",
              "      <td>NaN</td>\n",
              "      <td>Tue, 2003-10-21 04:59:43</td>\n",
              "      <td>Thu, 2010-11-18 23:11:46</td>\n",
              "      <td>facebook</td>\n",
              "      <td>smithoscar@navarro.com</td>\n",
              "    </tr>\n",
              "    <tr>\n",
              "      <th>699995</th>\n",
              "      <td>NaN</td>\n",
              "      <td>Mon, 2008-06-16 18:49:16</td>\n",
              "      <td>Sat, 1999-10-23 22:19:10</td>\n",
              "      <td>NaN</td>\n",
              "      <td>cobbpatricia@anderson.biz</td>\n",
              "    </tr>\n",
              "    <tr>\n",
              "      <th>699997</th>\n",
              "      <td>NaN</td>\n",
              "      <td>Thu, 1973-06-14 08:14:54</td>\n",
              "      <td>Fri, 1995-09-29 17:28:40</td>\n",
              "      <td>twitter</td>\n",
              "      <td>jennifer82@oneal.com</td>\n",
              "    </tr>\n",
              "    <tr>\n",
              "      <th>699998</th>\n",
              "      <td>NaN</td>\n",
              "      <td>Tue, 1998-06-02 01:24:00</td>\n",
              "      <td>Sun, 2014-06-01 11:16:45</td>\n",
              "      <td>google</td>\n",
              "      <td>robertodixon@wilson.net</td>\n",
              "    </tr>\n",
              "    <tr>\n",
              "      <th>699999</th>\n",
              "      <td>NaN</td>\n",
              "      <td>Wed, 1989-02-15 17:34:48</td>\n",
              "      <td>Thu, 2020-04-30 19:39:18</td>\n",
              "      <td>NaN</td>\n",
              "      <td>christie54@gmail.com</td>\n",
              "    </tr>\n",
              "  </tbody>\n",
              "</table>\n",
              "<p>526010 rows × 5 columns</p>\n",
              "</div>\n",
              "      <button class=\"colab-df-convert\" onclick=\"convertToInteractive('df-2dcb209a-9329-40aa-9197-eb176f3ed6a2')\"\n",
              "              title=\"Convert this dataframe to an interactive table.\"\n",
              "              style=\"display:none;\">\n",
              "        \n",
              "  <svg xmlns=\"http://www.w3.org/2000/svg\" height=\"24px\"viewBox=\"0 0 24 24\"\n",
              "       width=\"24px\">\n",
              "    <path d=\"M0 0h24v24H0V0z\" fill=\"none\"/>\n",
              "    <path d=\"M18.56 5.44l.94 2.06.94-2.06 2.06-.94-2.06-.94-.94-2.06-.94 2.06-2.06.94zm-11 1L8.5 8.5l.94-2.06 2.06-.94-2.06-.94L8.5 2.5l-.94 2.06-2.06.94zm10 10l.94 2.06.94-2.06 2.06-.94-2.06-.94-.94-2.06-.94 2.06-2.06.94z\"/><path d=\"M17.41 7.96l-1.37-1.37c-.4-.4-.92-.59-1.43-.59-.52 0-1.04.2-1.43.59L10.3 9.45l-7.72 7.72c-.78.78-.78 2.05 0 2.83L4 21.41c.39.39.9.59 1.41.59.51 0 1.02-.2 1.41-.59l7.78-7.78 2.81-2.81c.8-.78.8-2.07 0-2.86zM5.41 20L4 18.59l7.72-7.72 1.47 1.35L5.41 20z\"/>\n",
              "  </svg>\n",
              "      </button>\n",
              "      \n",
              "  <style>\n",
              "    .colab-df-container {\n",
              "      display:flex;\n",
              "      flex-wrap:wrap;\n",
              "      gap: 12px;\n",
              "    }\n",
              "\n",
              "    .colab-df-convert {\n",
              "      background-color: #E8F0FE;\n",
              "      border: none;\n",
              "      border-radius: 50%;\n",
              "      cursor: pointer;\n",
              "      display: none;\n",
              "      fill: #1967D2;\n",
              "      height: 32px;\n",
              "      padding: 0 0 0 0;\n",
              "      width: 32px;\n",
              "    }\n",
              "\n",
              "    .colab-df-convert:hover {\n",
              "      background-color: #E2EBFA;\n",
              "      box-shadow: 0px 1px 2px rgba(60, 64, 67, 0.3), 0px 1px 3px 1px rgba(60, 64, 67, 0.15);\n",
              "      fill: #174EA6;\n",
              "    }\n",
              "\n",
              "    [theme=dark] .colab-df-convert {\n",
              "      background-color: #3B4455;\n",
              "      fill: #D2E3FC;\n",
              "    }\n",
              "\n",
              "    [theme=dark] .colab-df-convert:hover {\n",
              "      background-color: #434B5C;\n",
              "      box-shadow: 0px 1px 3px 1px rgba(0, 0, 0, 0.15);\n",
              "      filter: drop-shadow(0px 1px 2px rgba(0, 0, 0, 0.3));\n",
              "      fill: #FFFFFF;\n",
              "    }\n",
              "  </style>\n",
              "\n",
              "      <script>\n",
              "        const buttonEl =\n",
              "          document.querySelector('#df-2dcb209a-9329-40aa-9197-eb176f3ed6a2 button.colab-df-convert');\n",
              "        buttonEl.style.display =\n",
              "          google.colab.kernel.accessAllowed ? 'block' : 'none';\n",
              "\n",
              "        async function convertToInteractive(key) {\n",
              "          const element = document.querySelector('#df-2dcb209a-9329-40aa-9197-eb176f3ed6a2');\n",
              "          const dataTable =\n",
              "            await google.colab.kernel.invokeFunction('convertToInteractive',\n",
              "                                                     [key], {});\n",
              "          if (!dataTable) return;\n",
              "\n",
              "          const docLinkHtml = 'Like what you see? Visit the ' +\n",
              "            '<a target=\"_blank\" href=https://colab.research.google.com/notebooks/data_table.ipynb>data table notebook</a>'\n",
              "            + ' to learn more about interactive tables.';\n",
              "          element.innerHTML = '';\n",
              "          dataTable['output_type'] = 'display_data';\n",
              "          await google.colab.output.renderOutput(dataTable, element);\n",
              "          const docLink = document.createElement('div');\n",
              "          docLink.innerHTML = docLinkHtml;\n",
              "          element.appendChild(docLink);\n",
              "        }\n",
              "      </script>\n",
              "    </div>\n",
              "  </div>\n",
              "  "
            ]
          },
          "metadata": {},
          "execution_count": 20
        }
      ]
    },
    {
      "cell_type": "code",
      "source": [
        "people.isunsub = people.isunsub.apply(lambda x: 1 if np.isnan(x) else x).astype(bool)\n",
        "#applied lambda function and assigning datatype as Boolean as required in the final data"
      ],
      "metadata": {
        "id": "F_ibH3cyQvKN"
      },
      "execution_count": 21,
      "outputs": []
    },
    {
      "cell_type": "code",
      "source": [
        "people[people.isunsub== False].head(10)"
      ],
      "metadata": {
        "colab": {
          "base_uri": "https://localhost:8080/",
          "height": 363
        },
        "id": "AoMIgt6xWP8u",
        "outputId": "0a856aeb-e96d-4bad-b052-a2c025de62e8"
      },
      "execution_count": 22,
      "outputs": [
        {
          "output_type": "execute_result",
          "data": {
            "text/plain": [
              "     isunsub                 create_dt               modified_dt    source  \\\n",
              "26     False  Fri, 2016-07-29 09:28:21  Sat, 2014-01-11 11:57:25    google   \n",
              "29     False  Thu, 2005-11-17 16:05:17  Sat, 2013-03-23 17:57:34  facebook   \n",
              "153    False  Sun, 1971-11-21 04:51:30  Mon, 1983-07-04 21:30:28       NaN   \n",
              "192    False  Fri, 2011-08-26 18:15:06  Thu, 2009-06-18 05:56:45       NaN   \n",
              "245    False  Wed, 1999-01-20 15:11:23  Fri, 2001-04-20 19:32:47       NaN   \n",
              "268    False  Thu, 2001-03-01 19:55:43  Sat, 1994-02-12 04:40:59       NaN   \n",
              "307    False  Mon, 1980-09-15 12:25:12  Thu, 1978-07-20 06:32:31   organic   \n",
              "322    False  Fri, 1974-06-21 13:55:08  Tue, 1982-11-02 15:07:25       NaN   \n",
              "323    False  Sun, 2004-08-08 23:28:45  Sat, 1993-09-18 00:10:12   twitter   \n",
              "347    False  Mon, 2017-07-17 14:09:58  Sun, 1986-04-06 16:53:27   organic   \n",
              "\n",
              "                            email  \n",
              "26     hernandeztammy@hotmail.com  \n",
              "29          kellyspears@gmail.com  \n",
              "153           oturner@vincent.net  \n",
              "192           jeffrey62@yahoo.com  \n",
              "245   woodjames@wiley-wheeler.com  \n",
              "268         aguilarlynn@yahoo.com  \n",
              "307  ewalters@benitez-bennett.com  \n",
              "322            fgilbert@yahoo.com  \n",
              "323      annetteburch@hotmail.com  \n",
              "347            ggarza@wallace.com  "
            ],
            "text/html": [
              "\n",
              "  <div id=\"df-40299e04-5720-426c-83e3-2db7e72a0d26\">\n",
              "    <div class=\"colab-df-container\">\n",
              "      <div>\n",
              "<style scoped>\n",
              "    .dataframe tbody tr th:only-of-type {\n",
              "        vertical-align: middle;\n",
              "    }\n",
              "\n",
              "    .dataframe tbody tr th {\n",
              "        vertical-align: top;\n",
              "    }\n",
              "\n",
              "    .dataframe thead th {\n",
              "        text-align: right;\n",
              "    }\n",
              "</style>\n",
              "<table border=\"1\" class=\"dataframe\">\n",
              "  <thead>\n",
              "    <tr style=\"text-align: right;\">\n",
              "      <th></th>\n",
              "      <th>isunsub</th>\n",
              "      <th>create_dt</th>\n",
              "      <th>modified_dt</th>\n",
              "      <th>source</th>\n",
              "      <th>email</th>\n",
              "    </tr>\n",
              "  </thead>\n",
              "  <tbody>\n",
              "    <tr>\n",
              "      <th>26</th>\n",
              "      <td>False</td>\n",
              "      <td>Fri, 2016-07-29 09:28:21</td>\n",
              "      <td>Sat, 2014-01-11 11:57:25</td>\n",
              "      <td>google</td>\n",
              "      <td>hernandeztammy@hotmail.com</td>\n",
              "    </tr>\n",
              "    <tr>\n",
              "      <th>29</th>\n",
              "      <td>False</td>\n",
              "      <td>Thu, 2005-11-17 16:05:17</td>\n",
              "      <td>Sat, 2013-03-23 17:57:34</td>\n",
              "      <td>facebook</td>\n",
              "      <td>kellyspears@gmail.com</td>\n",
              "    </tr>\n",
              "    <tr>\n",
              "      <th>153</th>\n",
              "      <td>False</td>\n",
              "      <td>Sun, 1971-11-21 04:51:30</td>\n",
              "      <td>Mon, 1983-07-04 21:30:28</td>\n",
              "      <td>NaN</td>\n",
              "      <td>oturner@vincent.net</td>\n",
              "    </tr>\n",
              "    <tr>\n",
              "      <th>192</th>\n",
              "      <td>False</td>\n",
              "      <td>Fri, 2011-08-26 18:15:06</td>\n",
              "      <td>Thu, 2009-06-18 05:56:45</td>\n",
              "      <td>NaN</td>\n",
              "      <td>jeffrey62@yahoo.com</td>\n",
              "    </tr>\n",
              "    <tr>\n",
              "      <th>245</th>\n",
              "      <td>False</td>\n",
              "      <td>Wed, 1999-01-20 15:11:23</td>\n",
              "      <td>Fri, 2001-04-20 19:32:47</td>\n",
              "      <td>NaN</td>\n",
              "      <td>woodjames@wiley-wheeler.com</td>\n",
              "    </tr>\n",
              "    <tr>\n",
              "      <th>268</th>\n",
              "      <td>False</td>\n",
              "      <td>Thu, 2001-03-01 19:55:43</td>\n",
              "      <td>Sat, 1994-02-12 04:40:59</td>\n",
              "      <td>NaN</td>\n",
              "      <td>aguilarlynn@yahoo.com</td>\n",
              "    </tr>\n",
              "    <tr>\n",
              "      <th>307</th>\n",
              "      <td>False</td>\n",
              "      <td>Mon, 1980-09-15 12:25:12</td>\n",
              "      <td>Thu, 1978-07-20 06:32:31</td>\n",
              "      <td>organic</td>\n",
              "      <td>ewalters@benitez-bennett.com</td>\n",
              "    </tr>\n",
              "    <tr>\n",
              "      <th>322</th>\n",
              "      <td>False</td>\n",
              "      <td>Fri, 1974-06-21 13:55:08</td>\n",
              "      <td>Tue, 1982-11-02 15:07:25</td>\n",
              "      <td>NaN</td>\n",
              "      <td>fgilbert@yahoo.com</td>\n",
              "    </tr>\n",
              "    <tr>\n",
              "      <th>323</th>\n",
              "      <td>False</td>\n",
              "      <td>Sun, 2004-08-08 23:28:45</td>\n",
              "      <td>Sat, 1993-09-18 00:10:12</td>\n",
              "      <td>twitter</td>\n",
              "      <td>annetteburch@hotmail.com</td>\n",
              "    </tr>\n",
              "    <tr>\n",
              "      <th>347</th>\n",
              "      <td>False</td>\n",
              "      <td>Mon, 2017-07-17 14:09:58</td>\n",
              "      <td>Sun, 1986-04-06 16:53:27</td>\n",
              "      <td>organic</td>\n",
              "      <td>ggarza@wallace.com</td>\n",
              "    </tr>\n",
              "  </tbody>\n",
              "</table>\n",
              "</div>\n",
              "      <button class=\"colab-df-convert\" onclick=\"convertToInteractive('df-40299e04-5720-426c-83e3-2db7e72a0d26')\"\n",
              "              title=\"Convert this dataframe to an interactive table.\"\n",
              "              style=\"display:none;\">\n",
              "        \n",
              "  <svg xmlns=\"http://www.w3.org/2000/svg\" height=\"24px\"viewBox=\"0 0 24 24\"\n",
              "       width=\"24px\">\n",
              "    <path d=\"M0 0h24v24H0V0z\" fill=\"none\"/>\n",
              "    <path d=\"M18.56 5.44l.94 2.06.94-2.06 2.06-.94-2.06-.94-.94-2.06-.94 2.06-2.06.94zm-11 1L8.5 8.5l.94-2.06 2.06-.94-2.06-.94L8.5 2.5l-.94 2.06-2.06.94zm10 10l.94 2.06.94-2.06 2.06-.94-2.06-.94-.94-2.06-.94 2.06-2.06.94z\"/><path d=\"M17.41 7.96l-1.37-1.37c-.4-.4-.92-.59-1.43-.59-.52 0-1.04.2-1.43.59L10.3 9.45l-7.72 7.72c-.78.78-.78 2.05 0 2.83L4 21.41c.39.39.9.59 1.41.59.51 0 1.02-.2 1.41-.59l7.78-7.78 2.81-2.81c.8-.78.8-2.07 0-2.86zM5.41 20L4 18.59l7.72-7.72 1.47 1.35L5.41 20z\"/>\n",
              "  </svg>\n",
              "      </button>\n",
              "      \n",
              "  <style>\n",
              "    .colab-df-container {\n",
              "      display:flex;\n",
              "      flex-wrap:wrap;\n",
              "      gap: 12px;\n",
              "    }\n",
              "\n",
              "    .colab-df-convert {\n",
              "      background-color: #E8F0FE;\n",
              "      border: none;\n",
              "      border-radius: 50%;\n",
              "      cursor: pointer;\n",
              "      display: none;\n",
              "      fill: #1967D2;\n",
              "      height: 32px;\n",
              "      padding: 0 0 0 0;\n",
              "      width: 32px;\n",
              "    }\n",
              "\n",
              "    .colab-df-convert:hover {\n",
              "      background-color: #E2EBFA;\n",
              "      box-shadow: 0px 1px 2px rgba(60, 64, 67, 0.3), 0px 1px 3px 1px rgba(60, 64, 67, 0.15);\n",
              "      fill: #174EA6;\n",
              "    }\n",
              "\n",
              "    [theme=dark] .colab-df-convert {\n",
              "      background-color: #3B4455;\n",
              "      fill: #D2E3FC;\n",
              "    }\n",
              "\n",
              "    [theme=dark] .colab-df-convert:hover {\n",
              "      background-color: #434B5C;\n",
              "      box-shadow: 0px 1px 3px 1px rgba(0, 0, 0, 0.15);\n",
              "      filter: drop-shadow(0px 1px 2px rgba(0, 0, 0, 0.3));\n",
              "      fill: #FFFFFF;\n",
              "    }\n",
              "  </style>\n",
              "\n",
              "      <script>\n",
              "        const buttonEl =\n",
              "          document.querySelector('#df-40299e04-5720-426c-83e3-2db7e72a0d26 button.colab-df-convert');\n",
              "        buttonEl.style.display =\n",
              "          google.colab.kernel.accessAllowed ? 'block' : 'none';\n",
              "\n",
              "        async function convertToInteractive(key) {\n",
              "          const element = document.querySelector('#df-40299e04-5720-426c-83e3-2db7e72a0d26');\n",
              "          const dataTable =\n",
              "            await google.colab.kernel.invokeFunction('convertToInteractive',\n",
              "                                                     [key], {});\n",
              "          if (!dataTable) return;\n",
              "\n",
              "          const docLinkHtml = 'Like what you see? Visit the ' +\n",
              "            '<a target=\"_blank\" href=https://colab.research.google.com/notebooks/data_table.ipynb>data table notebook</a>'\n",
              "            + ' to learn more about interactive tables.';\n",
              "          element.innerHTML = '';\n",
              "          dataTable['output_type'] = 'display_data';\n",
              "          await google.colab.output.renderOutput(dataTable, element);\n",
              "          const docLink = document.createElement('div');\n",
              "          docLink.innerHTML = docLinkHtml;\n",
              "          element.appendChild(docLink);\n",
              "        }\n",
              "      </script>\n",
              "    </div>\n",
              "  </div>\n",
              "  "
            ]
          },
          "metadata": {},
          "execution_count": 22
        }
      ]
    },
    {
      "cell_type": "markdown",
      "source": [
        "**Transform everything to correct datatypes---------Step 4**"
      ],
      "metadata": {
        "id": "dzsrXsgy_iLl"
      }
    },
    {
      "cell_type": "code",
      "source": [
        "people.dtypes"
      ],
      "metadata": {
        "colab": {
          "base_uri": "https://localhost:8080/"
        },
        "id": "BbGOd_wCWn6Q",
        "outputId": "3c745821-c09e-49a5-910a-94b6250e019a"
      },
      "execution_count": 23,
      "outputs": [
        {
          "output_type": "execute_result",
          "data": {
            "text/plain": [
              "isunsub          bool\n",
              "create_dt      object\n",
              "modified_dt    object\n",
              "source         object\n",
              "email          object\n",
              "dtype: object"
            ]
          },
          "metadata": {},
          "execution_count": 23
        }
      ]
    },
    {
      "cell_type": "code",
      "source": [
        "people.create_dt,people.modified_dt = people.create_dt.apply(lambda x: pd.to_datetime(x.split(',')[1])),people.modified_dt.apply(lambda x: pd.to_datetime(x.split(',')[1]))\n",
        "#changing create_dt and modified_dt datatype to actual pandas datetime format"
      ],
      "metadata": {
        "id": "AwKhYqMRXgVI"
      },
      "execution_count": 24,
      "outputs": []
    },
    {
      "cell_type": "code",
      "source": [
        "people.dtypes"
      ],
      "metadata": {
        "colab": {
          "base_uri": "https://localhost:8080/"
        },
        "id": "xsm8vaI-YEiZ",
        "outputId": "be5020bf-2cf2-4ab2-d794-11546994a2e8"
      },
      "execution_count": 25,
      "outputs": [
        {
          "output_type": "execute_result",
          "data": {
            "text/plain": [
              "isunsub                  bool\n",
              "create_dt      datetime64[ns]\n",
              "modified_dt    datetime64[ns]\n",
              "source                 object\n",
              "email                  object\n",
              "dtype: object"
            ]
          },
          "metadata": {},
          "execution_count": 25
        }
      ]
    },
    {
      "cell_type": "code",
      "source": [
        "people['source'] = people['source'].astype('string') \n",
        "people['email']= people['email'].astype('string')\n",
        "#changing datatype of source and email to string. "
      ],
      "metadata": {
        "id": "-cZHs_baYuRa"
      },
      "execution_count": 26,
      "outputs": []
    },
    {
      "cell_type": "code",
      "source": [
        "people.dtypes"
      ],
      "metadata": {
        "colab": {
          "base_uri": "https://localhost:8080/"
        },
        "id": "MLnnHEuQZ8tC",
        "outputId": "7ed6b906-9e90-49e6-b459-10616177f5f9"
      },
      "execution_count": 27,
      "outputs": [
        {
          "output_type": "execute_result",
          "data": {
            "text/plain": [
              "isunsub                  bool\n",
              "create_dt      datetime64[ns]\n",
              "modified_dt    datetime64[ns]\n",
              "source                 string\n",
              "email                  string\n",
              "dtype: object"
            ]
          },
          "metadata": {},
          "execution_count": 27
        }
      ]
    },
    {
      "cell_type": "markdown",
      "source": [
        "**Putting everything in correct format as required ------Step 5**"
      ],
      "metadata": {
        "id": "b3u6krYR_LUf"
      }
    },
    {
      "cell_type": "code",
      "source": [
        "people = people[['email', 'source', 'isunsub', 'create_dt', 'modified_dt']]"
      ],
      "metadata": {
        "id": "Kn3WEIy4Z-Kp"
      },
      "execution_count": 28,
      "outputs": []
    },
    {
      "cell_type": "markdown",
      "source": [
        "**Renaming everything as required in the data ------Step 6**"
      ],
      "metadata": {
        "id": "x5HGELs5_4fC"
      }
    },
    {
      "cell_type": "code",
      "source": [
        "people.rename(columns = {'source':'code','isunsub':'is_unsub','create_dt':'created_dt','modified_dt':'updated_dt'}, inplace = True)\n"
      ],
      "metadata": {
        "id": "uM0RsARecvEN"
      },
      "execution_count": 29,
      "outputs": []
    },
    {
      "cell_type": "code",
      "source": [
        "people.head(10)"
      ],
      "metadata": {
        "colab": {
          "base_uri": "https://localhost:8080/",
          "height": 363
        },
        "id": "GngbGSA_avcW",
        "outputId": "0a10a7cc-7028-4cca-c5a4-221402a809ad"
      },
      "execution_count": 30,
      "outputs": [
        {
          "output_type": "execute_result",
          "data": {
            "text/plain": [
              "                       email      code  is_unsub          created_dt  \\\n",
              "0        daniel72@hudson.com    google      True 1983-08-26 06:02:03   \n",
              "1  caustin@spears-carson.com  facebook      True 1979-03-05 21:08:54   \n",
              "2            klewis@ford.biz      <NA>      True 2008-08-22 19:20:28   \n",
              "3                       <NA>    google      True 1984-04-29 11:18:18   \n",
              "4  stephenhamilton@gmail.com      <NA>      True 2007-07-19 18:28:09   \n",
              "5     henryherring@gmail.com    google      True 2014-02-15 22:54:27   \n",
              "6  perrymatthew@campbell.com      <NA>      True 1979-03-01 16:12:55   \n",
              "7     tonifranklin@yahoo.com   twitter      True 2002-07-30 22:28:38   \n",
              "8                       <NA>   twitter      True 2019-08-29 14:50:24   \n",
              "9     gillderrick@melton.net   twitter      True 1987-02-17 11:22:04   \n",
              "\n",
              "           updated_dt  \n",
              "0 2015-12-27 09:28:02  \n",
              "1 1989-06-20 13:28:57  \n",
              "2 2020-06-05 18:13:57  \n",
              "3 2012-01-31 07:26:35  \n",
              "4 1971-04-27 06:53:53  \n",
              "5 1999-11-12 06:09:25  \n",
              "6 2019-03-13 02:52:10  \n",
              "7 1983-07-16 18:30:07  \n",
              "8 2009-12-20 14:50:14  \n",
              "9 2016-03-19 17:33:38  "
            ],
            "text/html": [
              "\n",
              "  <div id=\"df-f0719470-22f4-405f-aca6-77c5ce217efa\">\n",
              "    <div class=\"colab-df-container\">\n",
              "      <div>\n",
              "<style scoped>\n",
              "    .dataframe tbody tr th:only-of-type {\n",
              "        vertical-align: middle;\n",
              "    }\n",
              "\n",
              "    .dataframe tbody tr th {\n",
              "        vertical-align: top;\n",
              "    }\n",
              "\n",
              "    .dataframe thead th {\n",
              "        text-align: right;\n",
              "    }\n",
              "</style>\n",
              "<table border=\"1\" class=\"dataframe\">\n",
              "  <thead>\n",
              "    <tr style=\"text-align: right;\">\n",
              "      <th></th>\n",
              "      <th>email</th>\n",
              "      <th>code</th>\n",
              "      <th>is_unsub</th>\n",
              "      <th>created_dt</th>\n",
              "      <th>updated_dt</th>\n",
              "    </tr>\n",
              "  </thead>\n",
              "  <tbody>\n",
              "    <tr>\n",
              "      <th>0</th>\n",
              "      <td>daniel72@hudson.com</td>\n",
              "      <td>google</td>\n",
              "      <td>True</td>\n",
              "      <td>1983-08-26 06:02:03</td>\n",
              "      <td>2015-12-27 09:28:02</td>\n",
              "    </tr>\n",
              "    <tr>\n",
              "      <th>1</th>\n",
              "      <td>caustin@spears-carson.com</td>\n",
              "      <td>facebook</td>\n",
              "      <td>True</td>\n",
              "      <td>1979-03-05 21:08:54</td>\n",
              "      <td>1989-06-20 13:28:57</td>\n",
              "    </tr>\n",
              "    <tr>\n",
              "      <th>2</th>\n",
              "      <td>klewis@ford.biz</td>\n",
              "      <td>&lt;NA&gt;</td>\n",
              "      <td>True</td>\n",
              "      <td>2008-08-22 19:20:28</td>\n",
              "      <td>2020-06-05 18:13:57</td>\n",
              "    </tr>\n",
              "    <tr>\n",
              "      <th>3</th>\n",
              "      <td>&lt;NA&gt;</td>\n",
              "      <td>google</td>\n",
              "      <td>True</td>\n",
              "      <td>1984-04-29 11:18:18</td>\n",
              "      <td>2012-01-31 07:26:35</td>\n",
              "    </tr>\n",
              "    <tr>\n",
              "      <th>4</th>\n",
              "      <td>stephenhamilton@gmail.com</td>\n",
              "      <td>&lt;NA&gt;</td>\n",
              "      <td>True</td>\n",
              "      <td>2007-07-19 18:28:09</td>\n",
              "      <td>1971-04-27 06:53:53</td>\n",
              "    </tr>\n",
              "    <tr>\n",
              "      <th>5</th>\n",
              "      <td>henryherring@gmail.com</td>\n",
              "      <td>google</td>\n",
              "      <td>True</td>\n",
              "      <td>2014-02-15 22:54:27</td>\n",
              "      <td>1999-11-12 06:09:25</td>\n",
              "    </tr>\n",
              "    <tr>\n",
              "      <th>6</th>\n",
              "      <td>perrymatthew@campbell.com</td>\n",
              "      <td>&lt;NA&gt;</td>\n",
              "      <td>True</td>\n",
              "      <td>1979-03-01 16:12:55</td>\n",
              "      <td>2019-03-13 02:52:10</td>\n",
              "    </tr>\n",
              "    <tr>\n",
              "      <th>7</th>\n",
              "      <td>tonifranklin@yahoo.com</td>\n",
              "      <td>twitter</td>\n",
              "      <td>True</td>\n",
              "      <td>2002-07-30 22:28:38</td>\n",
              "      <td>1983-07-16 18:30:07</td>\n",
              "    </tr>\n",
              "    <tr>\n",
              "      <th>8</th>\n",
              "      <td>&lt;NA&gt;</td>\n",
              "      <td>twitter</td>\n",
              "      <td>True</td>\n",
              "      <td>2019-08-29 14:50:24</td>\n",
              "      <td>2009-12-20 14:50:14</td>\n",
              "    </tr>\n",
              "    <tr>\n",
              "      <th>9</th>\n",
              "      <td>gillderrick@melton.net</td>\n",
              "      <td>twitter</td>\n",
              "      <td>True</td>\n",
              "      <td>1987-02-17 11:22:04</td>\n",
              "      <td>2016-03-19 17:33:38</td>\n",
              "    </tr>\n",
              "  </tbody>\n",
              "</table>\n",
              "</div>\n",
              "      <button class=\"colab-df-convert\" onclick=\"convertToInteractive('df-f0719470-22f4-405f-aca6-77c5ce217efa')\"\n",
              "              title=\"Convert this dataframe to an interactive table.\"\n",
              "              style=\"display:none;\">\n",
              "        \n",
              "  <svg xmlns=\"http://www.w3.org/2000/svg\" height=\"24px\"viewBox=\"0 0 24 24\"\n",
              "       width=\"24px\">\n",
              "    <path d=\"M0 0h24v24H0V0z\" fill=\"none\"/>\n",
              "    <path d=\"M18.56 5.44l.94 2.06.94-2.06 2.06-.94-2.06-.94-.94-2.06-.94 2.06-2.06.94zm-11 1L8.5 8.5l.94-2.06 2.06-.94-2.06-.94L8.5 2.5l-.94 2.06-2.06.94zm10 10l.94 2.06.94-2.06 2.06-.94-2.06-.94-.94-2.06-.94 2.06-2.06.94z\"/><path d=\"M17.41 7.96l-1.37-1.37c-.4-.4-.92-.59-1.43-.59-.52 0-1.04.2-1.43.59L10.3 9.45l-7.72 7.72c-.78.78-.78 2.05 0 2.83L4 21.41c.39.39.9.59 1.41.59.51 0 1.02-.2 1.41-.59l7.78-7.78 2.81-2.81c.8-.78.8-2.07 0-2.86zM5.41 20L4 18.59l7.72-7.72 1.47 1.35L5.41 20z\"/>\n",
              "  </svg>\n",
              "      </button>\n",
              "      \n",
              "  <style>\n",
              "    .colab-df-container {\n",
              "      display:flex;\n",
              "      flex-wrap:wrap;\n",
              "      gap: 12px;\n",
              "    }\n",
              "\n",
              "    .colab-df-convert {\n",
              "      background-color: #E8F0FE;\n",
              "      border: none;\n",
              "      border-radius: 50%;\n",
              "      cursor: pointer;\n",
              "      display: none;\n",
              "      fill: #1967D2;\n",
              "      height: 32px;\n",
              "      padding: 0 0 0 0;\n",
              "      width: 32px;\n",
              "    }\n",
              "\n",
              "    .colab-df-convert:hover {\n",
              "      background-color: #E2EBFA;\n",
              "      box-shadow: 0px 1px 2px rgba(60, 64, 67, 0.3), 0px 1px 3px 1px rgba(60, 64, 67, 0.15);\n",
              "      fill: #174EA6;\n",
              "    }\n",
              "\n",
              "    [theme=dark] .colab-df-convert {\n",
              "      background-color: #3B4455;\n",
              "      fill: #D2E3FC;\n",
              "    }\n",
              "\n",
              "    [theme=dark] .colab-df-convert:hover {\n",
              "      background-color: #434B5C;\n",
              "      box-shadow: 0px 1px 3px 1px rgba(0, 0, 0, 0.15);\n",
              "      filter: drop-shadow(0px 1px 2px rgba(0, 0, 0, 0.3));\n",
              "      fill: #FFFFFF;\n",
              "    }\n",
              "  </style>\n",
              "\n",
              "      <script>\n",
              "        const buttonEl =\n",
              "          document.querySelector('#df-f0719470-22f4-405f-aca6-77c5ce217efa button.colab-df-convert');\n",
              "        buttonEl.style.display =\n",
              "          google.colab.kernel.accessAllowed ? 'block' : 'none';\n",
              "\n",
              "        async function convertToInteractive(key) {\n",
              "          const element = document.querySelector('#df-f0719470-22f4-405f-aca6-77c5ce217efa');\n",
              "          const dataTable =\n",
              "            await google.colab.kernel.invokeFunction('convertToInteractive',\n",
              "                                                     [key], {});\n",
              "          if (!dataTable) return;\n",
              "\n",
              "          const docLinkHtml = 'Like what you see? Visit the ' +\n",
              "            '<a target=\"_blank\" href=https://colab.research.google.com/notebooks/data_table.ipynb>data table notebook</a>'\n",
              "            + ' to learn more about interactive tables.';\n",
              "          element.innerHTML = '';\n",
              "          dataTable['output_type'] = 'display_data';\n",
              "          await google.colab.output.renderOutput(dataTable, element);\n",
              "          const docLink = document.createElement('div');\n",
              "          docLink.innerHTML = docLinkHtml;\n",
              "          element.appendChild(docLink);\n",
              "        }\n",
              "      </script>\n",
              "    </div>\n",
              "  </div>\n",
              "  "
            ]
          },
          "metadata": {},
          "execution_count": 30
        }
      ]
    },
    {
      "cell_type": "markdown",
      "source": [
        "**Exporting to CSV --------Step 7**"
      ],
      "metadata": {
        "id": "g3vnjfULAuD6"
      }
    },
    {
      "cell_type": "code",
      "source": [
        "people.to_csv('/content/drive/MyDrive/MissionWired/people.csv', index = False)"
      ],
      "metadata": {
        "id": "iFprUENZbOwE"
      },
      "execution_count": 31,
      "outputs": []
    },
    {
      "cell_type": "markdown",
      "source": [
        "**Question 2 Use the output of #1 to produce an “acquisition_facts” file with the following schema that aggregates stats about when people in the dataset were acquired. Save it to the working directory**"
      ],
      "metadata": {
        "id": "1rKw-C0wbqQt"
      }
    },
    {
      "cell_type": "markdown",
      "source": [
        "**Creating 'acquisition_facts' File**"
      ],
      "metadata": {
        "id": "2-1O9IxfA9ea"
      }
    },
    {
      "cell_type": "markdown",
      "source": [
        "**Extracting required information from the 'people' dataframe-----Step 1**"
      ],
      "metadata": {
        "id": "pqzgX-xXBMrn"
      }
    },
    {
      "cell_type": "code",
      "source": [
        "acq_facts = people[['email', 'created_dt']]"
      ],
      "metadata": {
        "id": "0gQQhab_brft"
      },
      "execution_count": 43,
      "outputs": []
    },
    {
      "cell_type": "markdown",
      "source": [
        "**Creating 'acquisition_date' and changing datetime to date-------Step 2**"
      ],
      "metadata": {
        "id": "WPb_vj_6CJWp"
      }
    },
    {
      "cell_type": "code",
      "source": [
        "acq_facts['acquisition_date'] = acq_facts['created_dt'].dt.normalize()\n",
        "#because I only need date and not datetime for acquisition_date"
      ],
      "metadata": {
        "colab": {
          "base_uri": "https://localhost:8080/"
        },
        "id": "TLqohY9Abvz0",
        "outputId": "9bced352-78a7-455d-a929-e1cb85928e9b"
      },
      "execution_count": 44,
      "outputs": [
        {
          "output_type": "stream",
          "name": "stderr",
          "text": [
            "/usr/local/lib/python3.7/dist-packages/ipykernel_launcher.py:1: SettingWithCopyWarning: \n",
            "A value is trying to be set on a copy of a slice from a DataFrame.\n",
            "Try using .loc[row_indexer,col_indexer] = value instead\n",
            "\n",
            "See the caveats in the documentation: https://pandas.pydata.org/pandas-docs/stable/user_guide/indexing.html#returning-a-view-versus-a-copy\n",
            "  \"\"\"Entry point for launching an IPython kernel.\n"
          ]
        }
      ]
    },
    {
      "cell_type": "code",
      "source": [
        "acq_facts = acq_facts.drop(columns = 'created_dt') \n",
        "#dropping this column as it is not needed."
      ],
      "metadata": {
        "id": "84WlHjglcEfe"
      },
      "execution_count": 45,
      "outputs": []
    },
    {
      "cell_type": "markdown",
      "source": [
        "**Changing acq_facts to date and count of acquisitions on date------Step 3**"
      ],
      "metadata": {
        "id": "4vDTIrNhCqzw"
      }
    },
    {
      "cell_type": "code",
      "source": [
        "acq_facts = pd.DataFrame(acq_facts.acquisition_date.value_counts().reset_index().rename(\n",
        "    columns = {'acquisition_date': 'acquisitions', 'index': 'acquisition_date'}\n",
        "))\n",
        "#putting value_counts output into a new dataframe and renaming columns "
      ],
      "metadata": {
        "id": "RYKZKvVHcWI8"
      },
      "execution_count": 46,
      "outputs": []
    },
    {
      "cell_type": "code",
      "source": [
        "acq_facts.sort_values('acquisition_date', inplace = True)"
      ],
      "metadata": {
        "id": "42mEynfYchTu"
      },
      "execution_count": 47,
      "outputs": []
    },
    {
      "cell_type": "code",
      "source": [
        "acq_facts.head(10)"
      ],
      "metadata": {
        "colab": {
          "base_uri": "https://localhost:8080/",
          "height": 363
        },
        "id": "pqo9JUQ8clZu",
        "outputId": "53c6c74b-7951-4188-be52-232bc64595d6"
      },
      "execution_count": 48,
      "outputs": [
        {
          "output_type": "execute_result",
          "data": {
            "text/plain": [
              "      acquisition_date  acquisitions\n",
              "13034       1970-01-01            34\n",
              "8995        1970-01-02            38\n",
              "15317       1970-01-03            32\n",
              "8227        1970-01-04            39\n",
              "3010        1970-01-05            44\n",
              "5152        1970-01-06            41\n",
              "9494        1970-01-07            38\n",
              "14746       1970-01-08            33\n",
              "6621        1970-01-09            40\n",
              "7026        1970-01-10            40"
            ],
            "text/html": [
              "\n",
              "  <div id=\"df-3bbfa482-cf1e-44d0-9bac-a5c79545cff0\">\n",
              "    <div class=\"colab-df-container\">\n",
              "      <div>\n",
              "<style scoped>\n",
              "    .dataframe tbody tr th:only-of-type {\n",
              "        vertical-align: middle;\n",
              "    }\n",
              "\n",
              "    .dataframe tbody tr th {\n",
              "        vertical-align: top;\n",
              "    }\n",
              "\n",
              "    .dataframe thead th {\n",
              "        text-align: right;\n",
              "    }\n",
              "</style>\n",
              "<table border=\"1\" class=\"dataframe\">\n",
              "  <thead>\n",
              "    <tr style=\"text-align: right;\">\n",
              "      <th></th>\n",
              "      <th>acquisition_date</th>\n",
              "      <th>acquisitions</th>\n",
              "    </tr>\n",
              "  </thead>\n",
              "  <tbody>\n",
              "    <tr>\n",
              "      <th>13034</th>\n",
              "      <td>1970-01-01</td>\n",
              "      <td>34</td>\n",
              "    </tr>\n",
              "    <tr>\n",
              "      <th>8995</th>\n",
              "      <td>1970-01-02</td>\n",
              "      <td>38</td>\n",
              "    </tr>\n",
              "    <tr>\n",
              "      <th>15317</th>\n",
              "      <td>1970-01-03</td>\n",
              "      <td>32</td>\n",
              "    </tr>\n",
              "    <tr>\n",
              "      <th>8227</th>\n",
              "      <td>1970-01-04</td>\n",
              "      <td>39</td>\n",
              "    </tr>\n",
              "    <tr>\n",
              "      <th>3010</th>\n",
              "      <td>1970-01-05</td>\n",
              "      <td>44</td>\n",
              "    </tr>\n",
              "    <tr>\n",
              "      <th>5152</th>\n",
              "      <td>1970-01-06</td>\n",
              "      <td>41</td>\n",
              "    </tr>\n",
              "    <tr>\n",
              "      <th>9494</th>\n",
              "      <td>1970-01-07</td>\n",
              "      <td>38</td>\n",
              "    </tr>\n",
              "    <tr>\n",
              "      <th>14746</th>\n",
              "      <td>1970-01-08</td>\n",
              "      <td>33</td>\n",
              "    </tr>\n",
              "    <tr>\n",
              "      <th>6621</th>\n",
              "      <td>1970-01-09</td>\n",
              "      <td>40</td>\n",
              "    </tr>\n",
              "    <tr>\n",
              "      <th>7026</th>\n",
              "      <td>1970-01-10</td>\n",
              "      <td>40</td>\n",
              "    </tr>\n",
              "  </tbody>\n",
              "</table>\n",
              "</div>\n",
              "      <button class=\"colab-df-convert\" onclick=\"convertToInteractive('df-3bbfa482-cf1e-44d0-9bac-a5c79545cff0')\"\n",
              "              title=\"Convert this dataframe to an interactive table.\"\n",
              "              style=\"display:none;\">\n",
              "        \n",
              "  <svg xmlns=\"http://www.w3.org/2000/svg\" height=\"24px\"viewBox=\"0 0 24 24\"\n",
              "       width=\"24px\">\n",
              "    <path d=\"M0 0h24v24H0V0z\" fill=\"none\"/>\n",
              "    <path d=\"M18.56 5.44l.94 2.06.94-2.06 2.06-.94-2.06-.94-.94-2.06-.94 2.06-2.06.94zm-11 1L8.5 8.5l.94-2.06 2.06-.94-2.06-.94L8.5 2.5l-.94 2.06-2.06.94zm10 10l.94 2.06.94-2.06 2.06-.94-2.06-.94-.94-2.06-.94 2.06-2.06.94z\"/><path d=\"M17.41 7.96l-1.37-1.37c-.4-.4-.92-.59-1.43-.59-.52 0-1.04.2-1.43.59L10.3 9.45l-7.72 7.72c-.78.78-.78 2.05 0 2.83L4 21.41c.39.39.9.59 1.41.59.51 0 1.02-.2 1.41-.59l7.78-7.78 2.81-2.81c.8-.78.8-2.07 0-2.86zM5.41 20L4 18.59l7.72-7.72 1.47 1.35L5.41 20z\"/>\n",
              "  </svg>\n",
              "      </button>\n",
              "      \n",
              "  <style>\n",
              "    .colab-df-container {\n",
              "      display:flex;\n",
              "      flex-wrap:wrap;\n",
              "      gap: 12px;\n",
              "    }\n",
              "\n",
              "    .colab-df-convert {\n",
              "      background-color: #E8F0FE;\n",
              "      border: none;\n",
              "      border-radius: 50%;\n",
              "      cursor: pointer;\n",
              "      display: none;\n",
              "      fill: #1967D2;\n",
              "      height: 32px;\n",
              "      padding: 0 0 0 0;\n",
              "      width: 32px;\n",
              "    }\n",
              "\n",
              "    .colab-df-convert:hover {\n",
              "      background-color: #E2EBFA;\n",
              "      box-shadow: 0px 1px 2px rgba(60, 64, 67, 0.3), 0px 1px 3px 1px rgba(60, 64, 67, 0.15);\n",
              "      fill: #174EA6;\n",
              "    }\n",
              "\n",
              "    [theme=dark] .colab-df-convert {\n",
              "      background-color: #3B4455;\n",
              "      fill: #D2E3FC;\n",
              "    }\n",
              "\n",
              "    [theme=dark] .colab-df-convert:hover {\n",
              "      background-color: #434B5C;\n",
              "      box-shadow: 0px 1px 3px 1px rgba(0, 0, 0, 0.15);\n",
              "      filter: drop-shadow(0px 1px 2px rgba(0, 0, 0, 0.3));\n",
              "      fill: #FFFFFF;\n",
              "    }\n",
              "  </style>\n",
              "\n",
              "      <script>\n",
              "        const buttonEl =\n",
              "          document.querySelector('#df-3bbfa482-cf1e-44d0-9bac-a5c79545cff0 button.colab-df-convert');\n",
              "        buttonEl.style.display =\n",
              "          google.colab.kernel.accessAllowed ? 'block' : 'none';\n",
              "\n",
              "        async function convertToInteractive(key) {\n",
              "          const element = document.querySelector('#df-3bbfa482-cf1e-44d0-9bac-a5c79545cff0');\n",
              "          const dataTable =\n",
              "            await google.colab.kernel.invokeFunction('convertToInteractive',\n",
              "                                                     [key], {});\n",
              "          if (!dataTable) return;\n",
              "\n",
              "          const docLinkHtml = 'Like what you see? Visit the ' +\n",
              "            '<a target=\"_blank\" href=https://colab.research.google.com/notebooks/data_table.ipynb>data table notebook</a>'\n",
              "            + ' to learn more about interactive tables.';\n",
              "          element.innerHTML = '';\n",
              "          dataTable['output_type'] = 'display_data';\n",
              "          await google.colab.output.renderOutput(dataTable, element);\n",
              "          const docLink = document.createElement('div');\n",
              "          docLink.innerHTML = docLinkHtml;\n",
              "          element.appendChild(docLink);\n",
              "        }\n",
              "      </script>\n",
              "    </div>\n",
              "  </div>\n",
              "  "
            ]
          },
          "metadata": {},
          "execution_count": 48
        }
      ]
    },
    {
      "cell_type": "markdown",
      "source": [
        "**Acq_facts to CSV --------------Step 4**"
      ],
      "metadata": {
        "id": "vMH2oO4jD282"
      }
    },
    {
      "cell_type": "code",
      "source": [
        "acq_facts.to_csv('/content/drive/MyDrive/MissionWired/acquisition_facts.csv', index = False)"
      ],
      "metadata": {
        "id": "hTS9ZutzcoZs"
      },
      "execution_count": 49,
      "outputs": []
    }
  ]
}